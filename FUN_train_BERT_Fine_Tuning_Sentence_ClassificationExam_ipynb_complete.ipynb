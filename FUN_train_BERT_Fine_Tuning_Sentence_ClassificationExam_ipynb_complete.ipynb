{
 "cells": [
  {
   "cell_type": "markdown",
   "metadata": {
    "id": "EKOTlwcmxmej"
   },
   "source": [
    "# BERT Fine-Tuning Tutorial with PyTorch\n",
    "\n",
    "By Chris McCormick and Nick Ryan"
   ]
  },
  {
   "cell_type": "markdown",
   "metadata": {
    "id": "RX_ZDhicpHkV"
   },
   "source": [
    "# 1. Setup"
   ]
  },
  {
   "cell_type": "markdown",
   "metadata": {
    "id": "nSU7yERLP_66"
   },
   "source": [
    "## 1.1. Using Colab GPU for Training\n"
   ]
  },
  {
   "cell_type": "code",
   "execution_count": 1,
   "metadata": {
    "colab": {
     "base_uri": "https://localhost:8080/"
    },
    "id": "oYsV4H8fCpZ-",
    "outputId": "8e12c33a-a8f2-48ca-8201-f9e23df0615a",
    "tags": []
   },
   "outputs": [
    {
     "name": "stdout",
     "output_type": "stream",
     "text": [
      "There are 1 GPU(s) available.\n"
     ]
    }
   ],
   "source": [
    "import torch\n",
    "\n",
    "if torch.cuda.is_available():\n",
    "    device = torch.device(\"cuda\")\n",
    "    print('There are %d GPU(s) available.' % torch.cuda.device_count())\n",
    "\n",
    "else:\n",
    "    print('No GPU available, using the CPU instead.')\n",
    "    device = torch.device(\"cpu\")"
   ]
  },
  {
   "cell_type": "markdown",
   "metadata": {
    "id": "4JrUHXms16cn"
   },
   "source": [
    "## 2.1. Download & Extract"
   ]
  },
  {
   "cell_type": "markdown",
   "metadata": {
    "id": "3ZNVW6xd0T0X"
   },
   "source": [
    "We'll use the `wget` package to download the dataset to the Colab instance's file system."
   ]
  },
  {
   "cell_type": "code",
   "execution_count": 2,
   "metadata": {
    "colab": {
     "base_uri": "https://localhost:8080/"
    },
    "id": "aCbRLR84kv5v",
    "outputId": "0988fa99-eda6-4ada-b399-14bd93121aa5",
    "tags": []
   },
   "outputs": [
    {
     "name": "stdout",
     "output_type": "stream",
     "text": [
      "--2024-05-20 16:17:58--  https://raw.githubusercontent.com/computational-humor/humor-recognition/master/data/FUN-dataset/train.json\n",
      "Resolving raw.githubusercontent.com (raw.githubusercontent.com)... 185.199.111.133, 185.199.110.133, 185.199.108.133, ...\n",
      "Connecting to raw.githubusercontent.com (raw.githubusercontent.com)|185.199.111.133|:443... connected.\n",
      "HTTP request sent, awaiting response... 200 OK\n",
      "Length: 49763213 (47M) [text/plain]\n",
      "Saving to: ‘train.json.1’\n",
      "\n",
      "train.json.1        100%[===================>]  47.46M  36.4MB/s    in 1.3s    \n",
      "\n",
      "2024-05-20 16:18:00 (36.4 MB/s) - ‘train.json.1’ saved [49763213/49763213]\n",
      "\n"
     ]
    }
   ],
   "source": [
    "# PATH\n",
    "\n",
    "!wget https://raw.githubusercontent.com/computational-humor/humor-recognition/master/data/FUN-dataset/train.json"
   ]
  },
  {
   "cell_type": "code",
   "execution_count": 3,
   "metadata": {
    "id": "RoQe5dU4jl4Z",
    "tags": []
   },
   "outputs": [],
   "source": [
    "import json\n",
    "import pandas as pd\n",
    "\n",
    "def json2df(path):\n",
    "\n",
    "  with open(path, 'r') as JSON:\n",
    "    json_dict = json.load(JSON)\n",
    "\n",
    "  df = pd.DataFrame({\n",
    "    'text': list(json_dict.keys()),\n",
    "    'humor': list(json_dict.values())\n",
    "    })\n",
    "\n",
    "  return df"
   ]
  },
  {
   "cell_type": "code",
   "execution_count": 4,
   "metadata": {
    "id": "5Bo0nlROmHoA",
    "tags": []
   },
   "outputs": [],
   "source": [
    "# PATH\n",
    "\n",
    "fun_train = json2df('train.json')"
   ]
  },
  {
   "cell_type": "markdown",
   "metadata": {
    "id": "oQUy9Tat2EF_"
   },
   "source": [
    "## 2.2. Parse"
   ]
  },
  {
   "cell_type": "markdown",
   "metadata": {
    "id": "xeyVCXT31EZQ"
   },
   "source": [
    "We can see from the file names that both `tokenized` and `raw` versions of the data are available.\n",
    "\n",
    "We can't use the pre-tokenized version because, in order to apply the pre-trained BERT, we *must* use the tokenizer provided by the model. This is because (1) the model has a specific, fixed vocabulary and (2) the BERT tokenizer has a particular way of handling out-of-vocabulary words."
   ]
  },
  {
   "cell_type": "markdown",
   "metadata": {
    "id": "MYWzeGSY2xh3"
   },
   "source": [
    "We'll use pandas to parse the \"in-domain\" training set and look at a few of its properties and data points."
   ]
  },
  {
   "cell_type": "markdown",
   "metadata": {
    "id": "kfWzpPi92UAH"
   },
   "source": [
    "The two properties we actually care about are the the `sentence` and its `label`, which is referred to as the \"acceptibility judgment\" (0=unacceptable, 1=acceptable)."
   ]
  },
  {
   "cell_type": "markdown",
   "metadata": {
    "id": "H_LpQfzCn9_o"
   },
   "source": [
    "Here are five sentences which are labeled as not grammatically acceptible. Note how much more difficult this task is than something like sentiment analysis!"
   ]
  },
  {
   "cell_type": "markdown",
   "metadata": {
    "id": "4SMZ5T5Imhlx"
   },
   "source": [
    "\n",
    "\n",
    "Let's extract the sentences and labels of our training set as numpy ndarrays."
   ]
  },
  {
   "cell_type": "code",
   "execution_count": 5,
   "metadata": {
    "id": "GuE5BqICAne2",
    "tags": []
   },
   "outputs": [],
   "source": [
    "sentences = fun_train.text.values\n",
    "labels = fun_train.humor.values"
   ]
  },
  {
   "cell_type": "code",
   "execution_count": 6,
   "metadata": {
    "colab": {
     "base_uri": "https://localhost:8080/"
    },
    "id": "6cvT2jHpF5eQ",
    "outputId": "f0d9ec0a-9f29-4d60-b277-f89108048435",
    "tags": []
   },
   "outputs": [
    {
     "data": {
      "text/plain": [
       "(numpy.ndarray, numpy.ndarray)"
      ]
     },
     "execution_count": 6,
     "metadata": {},
     "output_type": "execute_result"
    }
   ],
   "source": [
    "type(sentences), type(labels)"
   ]
  },
  {
   "cell_type": "markdown",
   "metadata": {
    "id": "ex5O1eV-Pfct"
   },
   "source": [
    "# 3. Tokenization & Input Formatting\n",
    "\n",
    "In this section, we'll transform our dataset into the format that BERT can be trained on."
   ]
  },
  {
   "cell_type": "markdown",
   "metadata": {
    "id": "-8kEDRvShcU5"
   },
   "source": [
    "## 3.1. BERT Tokenizer"
   ]
  },
  {
   "cell_type": "markdown",
   "metadata": {
    "id": "bWOPOyWghJp2"
   },
   "source": [
    "\n",
    "To feed our text to BERT, it must be split into tokens, and then these tokens must be mapped to their index in the tokenizer vocabulary.\n",
    "\n",
    "The tokenization must be performed by the tokenizer included with BERT--the below cell will download this for us. We'll be using the \"uncased\" version here.\n"
   ]
  },
  {
   "cell_type": "code",
   "execution_count": 7,
   "metadata": {
    "colab": {
     "base_uri": "https://localhost:8080/",
     "height": 275,
     "referenced_widgets": [
      "217e1e40e2f648a2af40b384824865e8",
      "bf93564487804351bdf435973fd0e0ab",
      "83728599267f42a4973c24fc5e5950cc",
      "48fda8e172e44f4c9aeaffef4538c342",
      "44079fc5bd6c43b59dd2bdd4d14872c7",
      "fac5b2288bc54a5c8fb8db90946cd5bc",
      "5435bd84d2d64f80b8286e03f73d1bf1",
      "7e1d73aeadec475e839e4c3ef628c0f5",
      "35d2b304dae74eddb52ebdd32f1e242b",
      "9014548dae214648829c8fb3e40186be",
      "7f37a3157ce648c081dc485285553cf3",
      "7590998f6cba494c8315aefcdc54eca7",
      "260d9d0bea5d4225bf179d95b4aaee59",
      "34039fd484fb4babb75ebd6244ad3f40",
      "f05ed0ea156d46d09da5c359b21ba2d2",
      "865d1421bed44a9782af256ec122b690",
      "1788555bb9c74045b3c86b30c040a083",
      "60c8023b39a54d5cb1302f09f797e8c0",
      "2eb480999e08460892ad6bcc452e017e",
      "bb856e12ca604255aff10d54f34cde71",
      "c99140cfbfec4c438c83a42a2b2294c1",
      "b915f6ee8af842e9ba3c6dfffa9f62cd",
      "4e9cae218c3849888fcdb2e687122879",
      "e5f0fdeb1a6c4963872a6c45be1d8bb6",
      "06e7817b9c8d4ace8de8d7c36ab1eb66",
      "2f9c02429a4d47728b908d6324ee95cd",
      "11e5072b341e4b078eaa70cbad72c318",
      "81463cc2ce45422982a8430573a79c80",
      "b9fe106ac8ba44cda6d548d30dcaaa70",
      "bb610142f3b143c5b99c90d41a51559b",
      "3b2580a359a84fa380013030d2c00d21",
      "8f74b33fd91e4021b2407a47d10c80c3",
      "71a0205fb3dd4fa6b57d3e670ea0f95c",
      "19f81b9afd1f4929af9ca5ef4fe51a6f",
      "30ed34c4adf74440bf21a943813fcbb5",
      "02bfd760393e4cad823844718e1adbfe",
      "83db8217f81142a8a88fc76f83bd2c2c",
      "b22ea8a8d8f34ba4b30f99512cfc7fe7",
      "6a7c8c63e68945e190e59e183ac8cc09",
      "3f07e4b816744e8eb74a4cd846399327",
      "0775ea5abde74fb7868094d7f6ae251c",
      "92c833acf9fc4851895b4c9ae8c70a22",
      "2922d64dd53d413e9f115ca41f7b0479",
      "ce7f327e21b44842aeaf474c26a425f3"
     ]
    },
    "id": "Z474sSC6oe7A",
    "outputId": "2910a4db-d17c-4729-8495-320e33ea30ee",
    "tags": []
   },
   "outputs": [
    {
     "name": "stderr",
     "output_type": "stream",
     "text": [
      "/home/jovyan/.mlspace/envs/albert_rl/lib/python3.10/site-packages/huggingface_hub/file_download.py:1132: FutureWarning: `resume_download` is deprecated and will be removed in version 1.0.0. Downloads always resume when possible. If you want to force a new download, use `force_download=True`.\n",
      "  warnings.warn(\n"
     ]
    }
   ],
   "source": [
    "from transformers import BertTokenizer\n",
    "\n",
    "from transformers import BertTokenizer\n",
    "tokenizer = BertTokenizer.from_pretrained('DeepPavlov/rubert-base-cased')"
   ]
  },
  {
   "cell_type": "markdown",
   "metadata": {
    "id": "dFzmtleW6KmJ"
   },
   "source": [
    "Let's apply the tokenizer to one sentence just to see the output.\n"
   ]
  },
  {
   "cell_type": "code",
   "execution_count": 8,
   "metadata": {
    "colab": {
     "base_uri": "https://localhost:8080/"
    },
    "id": "dLIbudgfh6F0",
    "outputId": "4bfd94c3-0871-4a96-a2ed-8ff143af0e16",
    "tags": []
   },
   "outputs": [
    {
     "name": "stdout",
     "output_type": "stream",
     "text": [
      " Original:  Нам нужно расстаться. Пойми, дело не в тебе... Просто рядом с тобой должен быть не я. А мудак, который будет терпеть все твои странные выходки.\n",
      "Tokenized:  ['Нам', 'нужно', 'расстаться', '.', 'Пой', '##ми', ',', 'дело', 'не', 'в', 'тебе', '.', '.', '.', 'Просто', 'рядом', 'с', 'тобой', 'должен', 'быть', 'не', 'я', '.', 'А', 'муд', '##ак', ',', 'который', 'будет', 'терпеть', 'все', 'твои', 'странные', 'выход', '##ки', '.']\n",
      "Token IDs:  [21836, 15411, 68806, 132, 36735, 3187, 128, 10673, 1699, 845, 38784, 132, 132, 132, 60949, 12286, 869, 72448, 9650, 6345, 1699, 877, 132, 777, 43115, 1533, 128, 3856, 5022, 73299, 4752, 109813, 64662, 7460, 2237, 132]\n"
     ]
    }
   ],
   "source": [
    "# Print the original sentence.\n",
    "print(' Original: ', sentences[0])\n",
    "\n",
    "# Print the sentence split into tokens.\n",
    "print('Tokenized: ', tokenizer.tokenize(sentences[0]))\n",
    "\n",
    "# Print the sentence mapped to token ids.\n",
    "print('Token IDs: ', tokenizer.convert_tokens_to_ids(tokenizer.tokenize(sentences[0])))"
   ]
  },
  {
   "cell_type": "markdown",
   "metadata": {
    "id": "WeNIc4auFUdF"
   },
   "source": [
    "When we actually convert all of our sentences, we'll use the `tokenize.encode` function to handle both steps, rather than calling `tokenize` and `convert_tokens_to_ids` separately.\n",
    "\n",
    "Before we can do that, though, we need to talk about some of BERT's formatting requirements."
   ]
  },
  {
   "cell_type": "markdown",
   "metadata": {
    "id": "viKGCCh8izww"
   },
   "source": [
    "## 3.2. Required Formatting"
   ]
  },
  {
   "cell_type": "markdown",
   "metadata": {
    "id": "yDcqNlvVhL5W"
   },
   "source": [
    "The above code left out a few required formatting steps that we'll look at here.\n",
    "\n",
    "*Side Note: The input format to BERT seems \"over-specified\" to me... We are required to give it a number of pieces of information which seem redundant, or like they could easily be inferred from the data without us explicity providing it. But it is what it is, and I suspect it will make more sense once I have a deeper understanding of the BERT internals.*\n",
    "\n",
    "We are required to:\n",
    "1. Add special tokens to the start and end of each sentence.\n",
    "2. Pad & truncate all sentences to a single constant length.\n",
    "3. Explicitly differentiate real tokens from padding tokens with the \"attention mask\".\n",
    "\n"
   ]
  },
  {
   "cell_type": "markdown",
   "metadata": {
    "id": "V6mceWWOjZnw"
   },
   "source": [
    "### Special Tokens\n"
   ]
  },
  {
   "cell_type": "markdown",
   "metadata": {
    "id": "Ykk0P9JiKtVe"
   },
   "source": [
    "\n",
    "**`[SEP]`**\n",
    "\n",
    "At the end of every sentence, we need to append the special `[SEP]` token.\n",
    "\n",
    "This token is an artifact of two-sentence tasks, where BERT is given two separate sentences and asked to determine something (e.g., can the answer to the question in sentence A be found in sentence B?).\n",
    "\n",
    "I am not certain yet why the token is still required when we have only single-sentence input, but it is!\n"
   ]
  },
  {
   "cell_type": "markdown",
   "metadata": {
    "id": "86C9objaKu8f"
   },
   "source": [
    "**`[CLS]`**\n",
    "\n",
    "For classification tasks, we must prepend the special `[CLS]` token to the beginning of every sentence.\n",
    "\n",
    "This token has special significance. BERT consists of 12 Transformer layers. Each transformer takes in a list of token embeddings, and produces the same number of embeddings on the output (but with the feature values changed, of course!).\n",
    "\n",
    "![Illustration of CLS token purpose](http://www.mccormickml.com/assets/BERT/CLS_token_500x606.png)\n",
    "\n",
    "On the output of the final (12th) transformer, *only the first embedding (corresponding to the [CLS] token) is used by the classifier*.\n",
    "\n",
    ">  \"The first token of every sequence is always a special classification token (`[CLS]`). The final hidden state\n",
    "corresponding to this token is used as the aggregate sequence representation for classification\n",
    "tasks.\" (from the [BERT paper](https://arxiv.org/pdf/1810.04805.pdf))\n",
    "\n",
    "I'm not sure why the authors took this strategy instead of some kind of pooling of all the final vectors, but I'm sure that if pooling were better they would have gone that route.\n",
    "\n",
    "Also, because BERT is trained to only use this [CLS] token for classification, we know that the model has been motivated to encode everything it needs for the classification step into that single 768-value embedding vector.\n",
    "\n"
   ]
  },
  {
   "cell_type": "markdown",
   "metadata": {
    "id": "u51v0kFxeteu"
   },
   "source": [
    "### Sentence Length & Attention Mask\n",
    "\n"
   ]
  },
  {
   "cell_type": "markdown",
   "metadata": {
    "id": "qPNuwqZVK3T6"
   },
   "source": [
    "The sentences in our dataset obviously have varying lengths, so how does BERT handle this?\n",
    "\n",
    "BERT has two constraints:\n",
    "1. All sentences must be padded or truncated to a single, fixed length.\n",
    "2. The maximum sentence length is 512 tokens.\n",
    "\n",
    "Padding is done with a special `[PAD]` token, which is at index 0 in the BERT vocabulary. The below illustration demonstrates padding out to a \"MAX_LEN\" of 8 tokens.\n",
    "\n",
    "<img src=\"http://www.mccormickml.com/assets/BERT/padding_and_mask.png\" width=\"600\">\n",
    "\n",
    "The \"Attention Mask\" is simply an array of 1s and 0s indicating which tokens are padding and which aren't (seems kind of redundant, doesn't it?! Again, I don't currently know why).\n",
    "\n",
    "I've experimented with running this notebook with two different values of MAX_LEN, and it impacted both the training speed and the  test set accuracy.\n",
    "\n",
    "With a Tesla K80 and:\n",
    "\n",
    "```\n",
    "MAX_LEN = 128  -->  Training epochs take ~5:28 each, score is 0.535\n",
    "MAX_LEN = 64   -->  Training epochs take ~2:57 each, score is 0.566\n",
    "```\n",
    "These results suggest to me that the padding tokens aren't simply skipped over--that they are in fact fed through the model and incorporated in the results (thereby impacting both model speed and accuracy). I'll have to dig into the architecture more to understand this.\n",
    "\n",
    "\n",
    "\n",
    "\n"
   ]
  },
  {
   "cell_type": "markdown",
   "metadata": {
    "id": "l6w8elb-58GJ"
   },
   "source": [
    "## 3.2. Sentences to IDs"
   ]
  },
  {
   "cell_type": "markdown",
   "metadata": {
    "id": "1M296yz577fV"
   },
   "source": [
    "The `tokenizer.encode` function combines multiple steps for us:\n",
    "1. Split the sentence into tokens.\n",
    "2. Add the special `[CLS]` and `[SEP]` tokens.\n",
    "3. Map the tokens to their IDs.\n",
    "\n",
    "Oddly, this function can perform truncating for us, but doesn't handle padding."
   ]
  },
  {
   "cell_type": "code",
   "execution_count": 9,
   "metadata": {
    "colab": {
     "base_uri": "https://localhost:8080/"
    },
    "id": "-CUbrEl6GcdX",
    "outputId": "62949a1c-0cf2-434e-e000-411673306758",
    "tags": []
   },
   "outputs": [
    {
     "name": "stdout",
     "output_type": "stream",
     "text": [
      "Looking in indexes: https://pypi.org/simple, https://test.pypi.org/simple/\n",
      "Requirement already satisfied: tqdm in /home/jovyan/.mlspace/envs/albert_rl/lib/python3.10/site-packages (4.66.4)\n"
     ]
    }
   ],
   "source": [
    "!pip install tqdm"
   ]
  },
  {
   "cell_type": "code",
   "execution_count": 10,
   "metadata": {
    "id": "2t8lzANJGk9c",
    "tags": []
   },
   "outputs": [],
   "source": [
    "from tqdm import tqdm"
   ]
  },
  {
   "cell_type": "code",
   "execution_count": 11,
   "metadata": {
    "colab": {
     "base_uri": "https://localhost:8080/"
    },
    "id": "2bBdb3pt8LuQ",
    "outputId": "f0692258-cff9-4ba3-d769-96329c028a95",
    "tags": []
   },
   "outputs": [
    {
     "name": "stderr",
     "output_type": "stream",
     "text": [
      "100%|██████████| 251416/251416 [01:06<00:00, 3776.54it/s]"
     ]
    },
    {
     "name": "stdout",
     "output_type": "stream",
     "text": [
      "Original:  Нам нужно расстаться. Пойми, дело не в тебе... Просто рядом с тобой должен быть не я. А мудак, который будет терпеть все твои странные выходки.\n",
      "Token IDs: [101, 21836, 15411, 68806, 132, 36735, 3187, 128, 10673, 1699, 845, 38784, 132, 132, 132, 60949, 12286, 869, 72448, 9650, 6345, 1699, 877, 132, 777, 43115, 1533, 128, 3856, 5022, 73299, 4752, 109813, 64662, 7460, 2237, 132, 102]\n"
     ]
    },
    {
     "name": "stderr",
     "output_type": "stream",
     "text": [
      "\n"
     ]
    }
   ],
   "source": [
    "# Tokenize all of the sentences and map the tokens to thier word IDs.\n",
    "input_ids = []\n",
    "\n",
    "# For every sentence...\n",
    "for sent in tqdm(sentences):\n",
    "    # `encode` will:\n",
    "    #   (1) Tokenize the sentence.\n",
    "    #   (2) Prepend the `[CLS]` token to the start.\n",
    "    #   (3) Append the `[SEP]` token to the end.\n",
    "    #   (4) Map tokens to their IDs.\n",
    "    encoded_sent = tokenizer.encode(\n",
    "                        sent,                      # Sentence to encode.\n",
    "                        add_special_tokens = True, # Add '[CLS]' and '[SEP]'\n",
    "\n",
    "                        # This function also supports truncation and conversion\n",
    "                        # to pytorch tensors, but we need to do padding, so we\n",
    "                        # can't use these features :( .\n",
    "                        #max_length = 256,          # Truncate all sentences.\n",
    "                        #return_tensors = 'pt',     # Return pytorch tensors.\n",
    "                   )\n",
    "\n",
    "    # Add the encoded sentence to the list.\n",
    "    input_ids.append(encoded_sent)\n",
    "\n",
    "# Print sentence 0, now as a list of IDs.\n",
    "print('Original: ', sentences[0])\n",
    "print('Token IDs:', input_ids[0])"
   ]
  },
  {
   "cell_type": "code",
   "execution_count": 12,
   "metadata": {
    "id": "vp0LhfqwylIt",
    "tags": []
   },
   "outputs": [],
   "source": [
    "import numpy as np"
   ]
  },
  {
   "cell_type": "code",
   "execution_count": null,
   "metadata": {
    "colab": {
     "base_uri": "https://localhost:8080/",
     "height": 294
    },
    "id": "a7N-5gRfpmz0",
    "outputId": "d906ae57-2f06-4bc7-a227-c454490debd5",
    "tags": []
   },
   "outputs": [],
   "source": [
    "np.save('fun_train_input_ids', input_ids)"
   ]
  },
  {
   "cell_type": "markdown",
   "metadata": {
    "id": "WhwCKszh6ych"
   },
   "source": [
    "## 3.3. Padding & Truncating"
   ]
  },
  {
   "cell_type": "markdown",
   "metadata": {
    "id": "xytsw1oIfnX0"
   },
   "source": [
    "Pad and truncate our sequences so that they all have the same length, `MAX_LEN`."
   ]
  },
  {
   "cell_type": "markdown",
   "metadata": {
    "id": "zqiWTDrn_nGB"
   },
   "source": [
    "First, what's the maximum sentence length in our dataset?"
   ]
  },
  {
   "cell_type": "code",
   "execution_count": 15,
   "metadata": {
    "colab": {
     "base_uri": "https://localhost:8080/"
    },
    "id": "JhUZO9vc_l6T",
    "outputId": "6a3eaf9c-447a-498c-83c9-53e1e0d364ed",
    "tags": []
   },
   "outputs": [
    {
     "name": "stdout",
     "output_type": "stream",
     "text": [
      "Max sentence length:  239\n"
     ]
    }
   ],
   "source": [
    "print('Max sentence length: ', max([len(sen) for sen in input_ids]))"
   ]
  },
  {
   "cell_type": "code",
   "execution_count": 17,
   "metadata": {
    "colab": {
     "base_uri": "https://localhost:8080/"
    },
    "id": "Cp9BPRd1tMIo",
    "outputId": "c6c33627-4d10-4e5a-8f7c-1caf2fba1ded",
    "tags": []
   },
   "outputs": [
    {
     "name": "stdout",
     "output_type": "stream",
     "text": [
      "\n",
      "Padding/truncating all sentences to 256 values...\n",
      "\n",
      "Padding token: \"[PAD]\", ID: 0\n",
      "\n",
      "Done.\n"
     ]
    }
   ],
   "source": [
    "# We'll borrow the `pad_sequences` utility function to do this.\n",
    "from keras.preprocessing.sequence import pad_sequences\n",
    "\n",
    "# Set the maximum sequence length.\n",
    "# I've chosen 64 somewhat arbitrarily. It's slightly larger than the\n",
    "# maximum training sentence length of 47...\n",
    "MAX_LEN = 256\n",
    "\n",
    "print('\\nPadding/truncating all sentences to %d values...' % MAX_LEN)\n",
    "\n",
    "print('\\nPadding token: \"{:}\", ID: {:}'.format(tokenizer.pad_token, tokenizer.pad_token_id))\n",
    "\n",
    "# Pad our input tokens with value 0.\n",
    "# \"post\" indicates that we want to pad and truncate at the end of the sequence,\n",
    "# as opposed to the beginning.\n",
    "input_ids = pad_sequences(input_ids, maxlen=MAX_LEN, dtype=\"long\",\n",
    "                          value=0, truncating=\"post\", padding=\"post\")\n",
    "\n",
    "print('\\nDone.')"
   ]
  },
  {
   "cell_type": "markdown",
   "metadata": {
    "id": "kDs-MYtYH8sL"
   },
   "source": [
    "## 3.4. Attention Masks"
   ]
  },
  {
   "cell_type": "markdown",
   "metadata": {
    "id": "KhGulL1pExCT"
   },
   "source": [
    "The attention mask simply makes it explicit which tokens are actual words versus which are padding.\n",
    "\n",
    "The BERT vocabulary does not use the ID 0, so if a token ID is 0, then it's padding, and otherwise it's a real token."
   ]
  },
  {
   "cell_type": "code",
   "execution_count": 18,
   "metadata": {
    "id": "cDoC24LeEv3N",
    "tags": []
   },
   "outputs": [],
   "source": [
    "# Create attention masks\n",
    "attention_masks = []\n",
    "\n",
    "# For each sentence...\n",
    "for sent in input_ids:\n",
    "\n",
    "    # Create the attention mask.\n",
    "    #   - If a token ID is 0, then it's padding, set the mask to 0.\n",
    "    #   - If a token ID is > 0, then it's a real token, set the mask to 1.\n",
    "    att_mask = [int(token_id > 0) for token_id in sent]\n",
    "\n",
    "    # Store the attention mask for this sentence.\n",
    "    attention_masks.append(att_mask)"
   ]
  },
  {
   "cell_type": "markdown",
   "metadata": {
    "id": "aRp4O7D295d_"
   },
   "source": [
    "## 3.5. Training & Validation Split\n"
   ]
  },
  {
   "cell_type": "markdown",
   "metadata": {
    "id": "qu0ao7p8rb06"
   },
   "source": [
    "Divide up our training set to use 90% for training and 10% for validation."
   ]
  },
  {
   "cell_type": "code",
   "execution_count": 19,
   "metadata": {
    "colab": {
     "base_uri": "https://localhost:8080/"
    },
    "id": "Ls7J8_mHzdoL",
    "outputId": "5ad6809d-d5bd-4527-bdc7-41f1e69550cd",
    "tags": []
   },
   "outputs": [
    {
     "data": {
      "text/plain": [
       "array([1, 1, 1, ..., 0, 1, 0])"
      ]
     },
     "execution_count": 19,
     "metadata": {},
     "output_type": "execute_result"
    }
   ],
   "source": [
    "labels"
   ]
  },
  {
   "cell_type": "code",
   "execution_count": 20,
   "metadata": {
    "id": "aFbE-UHvsb7-",
    "tags": []
   },
   "outputs": [],
   "source": [
    "# Use train_test_split to split our data into train and validation sets for\n",
    "# training\n",
    "from sklearn.model_selection import train_test_split\n",
    "\n",
    "my_test_size = 0.1\n",
    "\n",
    "train_inputs, validation_inputs, train_labels, validation_labels = train_test_split(input_ids, labels,\n",
    "                                                            random_state=2018, test_size=my_test_size)\n",
    "# Do the same for the masks.\n",
    "train_masks, validation_masks, _, _ = train_test_split(attention_masks, labels,\n",
    "                                             random_state=2018, test_size=my_test_size)"
   ]
  },
  {
   "cell_type": "markdown",
   "metadata": {
    "id": "7LzSbTqW9_BR"
   },
   "source": [
    "## 3.6. Converting to PyTorch Data Types"
   ]
  },
  {
   "cell_type": "markdown",
   "metadata": {
    "id": "6p1uXczp-Je4"
   },
   "source": [
    "Our model expects PyTorch tensors rather than numpy.ndarrays, so convert all of our dataset variables."
   ]
  },
  {
   "cell_type": "code",
   "execution_count": 21,
   "metadata": {
    "id": "jw5K2A5Ko1RF",
    "tags": []
   },
   "outputs": [],
   "source": [
    "# Convert all inputs and labels into torch tensors, the required datatype\n",
    "# for our model.\n",
    "train_inputs = torch.tensor(train_inputs)\n",
    "validation_inputs = torch.tensor(validation_inputs)\n",
    "\n",
    "train_labels = torch.tensor(train_labels)\n",
    "validation_labels = torch.tensor(validation_labels)\n",
    "\n",
    "train_masks = torch.tensor(train_masks)\n",
    "validation_masks = torch.tensor(validation_masks)"
   ]
  },
  {
   "cell_type": "markdown",
   "metadata": {
    "id": "dD9i6Z2pG-sN"
   },
   "source": [
    "We'll also create an iterator for our dataset using the torch DataLoader class. This helps save on memory during training because, unlike a for loop, with an iterator the entire dataset does not need to be loaded into memory."
   ]
  },
  {
   "cell_type": "code",
   "execution_count": 22,
   "metadata": {
    "id": "GEgLpFVlo1Z-",
    "tags": []
   },
   "outputs": [],
   "source": [
    "from torch.utils.data import TensorDataset, DataLoader, RandomSampler, SequentialSampler\n",
    "\n",
    "# The DataLoader needs to know our batch size for training, so we specify it\n",
    "# here.\n",
    "# For fine-tuning BERT on a specific task, the authors recommend a batch size of\n",
    "# 16 or 32.\n",
    "\n",
    "batch_size = 32\n",
    "\n",
    "# Create the DataLoader for our training set.\n",
    "train_data = TensorDataset(train_inputs, train_masks, train_labels)\n",
    "train_sampler = RandomSampler(train_data)\n",
    "train_dataloader = DataLoader(train_data, sampler=train_sampler, batch_size=batch_size)\n",
    "\n",
    "# Create the DataLoader for our validation set.\n",
    "validation_data = TensorDataset(validation_inputs, validation_masks, validation_labels)\n",
    "validation_sampler = SequentialSampler(validation_data)\n",
    "validation_dataloader = DataLoader(validation_data, sampler=validation_sampler, batch_size=batch_size)\n"
   ]
  },
  {
   "cell_type": "markdown",
   "metadata": {
    "id": "D6TKgyUzPIQc"
   },
   "source": [
    "## 4.1. BertForSequenceClassification"
   ]
  },
  {
   "cell_type": "markdown",
   "metadata": {
    "id": "1sjzRT1V0zwm"
   },
   "source": [
    "For this task, we first want to modify the pre-trained BERT model to give outputs for classification, and then we want to continue training the model on our dataset until that the entire model, end-to-end, is well-suited for our task.\n",
    "\n",
    "Thankfully, the huggingface pytorch implementation includes a set of interfaces designed for a variety of NLP tasks. Though these interfaces are all built on top of a trained BERT model, each has different top layers and output types designed to accomodate their specific NLP task.  \n",
    "\n",
    "Here is the current list of classes provided for fine-tuning:\n",
    "* BertModel\n",
    "* BertForPreTraining\n",
    "* BertForMaskedLM\n",
    "* BertForNextSentencePrediction\n",
    "* **BertForSequenceClassification** - The one we'll use.\n",
    "* BertForTokenClassification\n",
    "* BertForQuestionAnswering\n",
    "\n",
    "The documentation for these can be found under [here](https://huggingface.co/transformers/v2.2.0/model_doc/bert.html)."
   ]
  },
  {
   "cell_type": "markdown",
   "metadata": {
    "id": "BXYitPoE-cjH"
   },
   "source": [
    "\n",
    "\n",
    "We'll be using [BertForSequenceClassification](https://huggingface.co/transformers/v2.2.0/model_doc/bert.html#bertforsequenceclassification). This is the normal BERT model with an added single linear layer on top for classification that we will use as a sentence classifier. As we feed input data, the entire pre-trained BERT model and the additional untrained classification layer is trained on our specific task.\n"
   ]
  },
  {
   "cell_type": "markdown",
   "metadata": {
    "id": "WnQW9E-bBCRt"
   },
   "source": [
    "OK, let's load BERT! There are a few different pre-trained BERT models available. \"bert-base-uncased\" means the version that has only lowercase letters (\"uncased\") and is the smaller version of the two (\"base\" vs \"large\").\n",
    "\n",
    "The documentation for `from_pretrained` can be found [here](https://huggingface.co/transformers/v2.2.0/main_classes/model.html#transformers.PreTrainedModel.from_pretrained), with the additional parameters defined [here](https://huggingface.co/transformers/v2.2.0/main_classes/configuration.html#transformers.PretrainedConfig)."
   ]
  },
  {
   "cell_type": "code",
   "execution_count": 23,
   "metadata": {
    "colab": {
     "base_uri": "https://localhost:8080/",
     "height": 106,
     "referenced_widgets": [
      "8b8b6cef3c9c40038eb232933ef8ef93",
      "b0d9d35696724a528093f9c49edf466a",
      "4e8c7ac5c3334a9aa7cc41fcad4aa31f",
      "2ea9984794b34092ad1155863030a577",
      "afb989ef34434264b2ae0021094501b4",
      "d03a9ba5b09b44a288cd8723aebed327",
      "d11d9a2ef3fc469893d4b329e57737a9",
      "be2dc1e0a4b24ab9af16890cafbec789",
      "0069d0d3a3424c09be7730293a812f80",
      "a0cd6e8e098648209cdefb94773a0bea",
      "9df8067802574a268567b623e0db59e2"
     ]
    },
    "id": "gFsCTp_mporB",
    "outputId": "e17f7b56-2abb-4e78-be0c-73183dc1fafe",
    "tags": []
   },
   "outputs": [
    {
     "name": "stderr",
     "output_type": "stream",
     "text": [
      "/home/jovyan/.mlspace/envs/albert_rl/lib/python3.10/site-packages/huggingface_hub/file_download.py:1132: FutureWarning: `resume_download` is deprecated and will be removed in version 1.0.0. Downloads always resume when possible. If you want to force a new download, use `force_download=True`.\n",
      "  warnings.warn(\n",
      "Some weights of BertForSequenceClassification were not initialized from the model checkpoint at DeepPavlov/rubert-base-cased and are newly initialized: ['classifier.bias', 'classifier.weight']\n",
      "You should probably TRAIN this model on a down-stream task to be able to use it for predictions and inference.\n"
     ]
    }
   ],
   "source": [
    "current_dataset = fun_train\n",
    "\n",
    "from transformers import BertForSequenceClassification, AdamW, BertConfig\n",
    "\n",
    "# Load BertForSequenceClassification, the pretrained BERT model with a single\n",
    "# linear classification layer on top.\n",
    "model = BertForSequenceClassification.from_pretrained(\n",
    "    \"DeepPavlov/rubert-base-cased\", # Use the 12-layer BERT model, with an uncased vocab.\n",
    "    num_labels = len(current_dataset.humor.unique()), # The number of output labels--2 for binary classification.\n",
    "                    # You can increase this for multi-class tasks.\n",
    "    output_attentions = False, # Whether the model returns attentions weights.\n",
    "    output_hidden_states = False, # Whether the model returns all hidden-states.\n",
    ")"
   ]
  },
  {
   "cell_type": "code",
   "execution_count": 24,
   "metadata": {
    "colab": {
     "base_uri": "https://localhost:8080/"
    },
    "id": "DrOLjhVdR5_i",
    "outputId": "b12cc437-de80-4a26-9e03-fe650d1f9666",
    "tags": []
   },
   "outputs": [
    {
     "data": {
      "text/plain": [
       "BertForSequenceClassification(\n",
       "  (bert): BertModel(\n",
       "    (embeddings): BertEmbeddings(\n",
       "      (word_embeddings): Embedding(119547, 768, padding_idx=0)\n",
       "      (position_embeddings): Embedding(512, 768)\n",
       "      (token_type_embeddings): Embedding(2, 768)\n",
       "      (LayerNorm): LayerNorm((768,), eps=1e-12, elementwise_affine=True)\n",
       "      (dropout): Dropout(p=0.1, inplace=False)\n",
       "    )\n",
       "    (encoder): BertEncoder(\n",
       "      (layer): ModuleList(\n",
       "        (0-11): 12 x BertLayer(\n",
       "          (attention): BertAttention(\n",
       "            (self): BertSelfAttention(\n",
       "              (query): Linear(in_features=768, out_features=768, bias=True)\n",
       "              (key): Linear(in_features=768, out_features=768, bias=True)\n",
       "              (value): Linear(in_features=768, out_features=768, bias=True)\n",
       "              (dropout): Dropout(p=0.1, inplace=False)\n",
       "            )\n",
       "            (output): BertSelfOutput(\n",
       "              (dense): Linear(in_features=768, out_features=768, bias=True)\n",
       "              (LayerNorm): LayerNorm((768,), eps=1e-12, elementwise_affine=True)\n",
       "              (dropout): Dropout(p=0.1, inplace=False)\n",
       "            )\n",
       "          )\n",
       "          (intermediate): BertIntermediate(\n",
       "            (dense): Linear(in_features=768, out_features=3072, bias=True)\n",
       "            (intermediate_act_fn): GELUActivation()\n",
       "          )\n",
       "          (output): BertOutput(\n",
       "            (dense): Linear(in_features=3072, out_features=768, bias=True)\n",
       "            (LayerNorm): LayerNorm((768,), eps=1e-12, elementwise_affine=True)\n",
       "            (dropout): Dropout(p=0.1, inplace=False)\n",
       "          )\n",
       "        )\n",
       "      )\n",
       "    )\n",
       "    (pooler): BertPooler(\n",
       "      (dense): Linear(in_features=768, out_features=768, bias=True)\n",
       "      (activation): Tanh()\n",
       "    )\n",
       "  )\n",
       "  (dropout): Dropout(p=0.1, inplace=False)\n",
       "  (classifier): Linear(in_features=768, out_features=2, bias=True)\n",
       ")"
      ]
     },
     "execution_count": 24,
     "metadata": {},
     "output_type": "execute_result"
    }
   ],
   "source": [
    "model.cuda()"
   ]
  },
  {
   "cell_type": "markdown",
   "metadata": {
    "id": "e0Jv6c7-HHDW"
   },
   "source": [
    "Just for curiosity's sake, we can browse all of the model's parameters by name here.\n",
    "\n",
    "In the below cell, I've printed out the names and dimensions of the weights for:\n",
    "\n",
    "1. The embedding layer.\n",
    "2. The first of the twelve transformers.\n",
    "3. The output layer.\n",
    "\n",
    "\n"
   ]
  },
  {
   "cell_type": "code",
   "execution_count": 25,
   "metadata": {
    "id": "a5cNVxcjeaDu",
    "tags": []
   },
   "outputs": [],
   "source": [
    "b = model.bert.pooler.dense.weight\n",
    "c = model.classifier.weight\n",
    "b = b.cpu().detach().numpy()\n",
    "c = c.cpu().detach().numpy()"
   ]
  },
  {
   "cell_type": "code",
   "execution_count": 26,
   "metadata": {
    "colab": {
     "base_uri": "https://localhost:8080/"
    },
    "id": "8PIiVlDYCtSq",
    "outputId": "92c73cde-b215-404a-95c5-a61a7bdaf0fb",
    "tags": []
   },
   "outputs": [
    {
     "name": "stdout",
     "output_type": "stream",
     "text": [
      "The BERT model has 201 different named parameters.\n",
      "\n",
      "==== Embedding Layer ====\n",
      "\n",
      "bert.embeddings.word_embeddings.weight                  (119547, 768)\n",
      "bert.embeddings.position_embeddings.weight                (512, 768)\n",
      "bert.embeddings.token_type_embeddings.weight                (2, 768)\n",
      "bert.embeddings.LayerNorm.weight                              (768,)\n",
      "bert.embeddings.LayerNorm.bias                                (768,)\n",
      "\n",
      "==== First Transformer ====\n",
      "\n",
      "bert.encoder.layer.0.attention.self.query.weight          (768, 768)\n",
      "bert.encoder.layer.0.attention.self.query.bias                (768,)\n",
      "bert.encoder.layer.0.attention.self.key.weight            (768, 768)\n",
      "bert.encoder.layer.0.attention.self.key.bias                  (768,)\n",
      "bert.encoder.layer.0.attention.self.value.weight          (768, 768)\n",
      "bert.encoder.layer.0.attention.self.value.bias                (768,)\n",
      "bert.encoder.layer.0.attention.output.dense.weight        (768, 768)\n",
      "bert.encoder.layer.0.attention.output.dense.bias              (768,)\n",
      "bert.encoder.layer.0.attention.output.LayerNorm.weight        (768,)\n",
      "bert.encoder.layer.0.attention.output.LayerNorm.bias          (768,)\n",
      "bert.encoder.layer.0.intermediate.dense.weight           (3072, 768)\n",
      "bert.encoder.layer.0.intermediate.dense.bias                 (3072,)\n",
      "bert.encoder.layer.0.output.dense.weight                 (768, 3072)\n",
      "bert.encoder.layer.0.output.dense.bias                        (768,)\n",
      "bert.encoder.layer.0.output.LayerNorm.weight                  (768,)\n",
      "bert.encoder.layer.0.output.LayerNorm.bias                    (768,)\n",
      "\n",
      "==== Output Layer ====\n",
      "\n",
      "bert.pooler.dense.weight                                  (768, 768)\n",
      "bert.pooler.dense.bias                                        (768,)\n",
      "classifier.weight                                           (2, 768)\n",
      "classifier.bias                                                 (2,)\n"
     ]
    }
   ],
   "source": [
    "# Get all of the model's parameters as a list of tuples.\n",
    "params = list(model.named_parameters())\n",
    "\n",
    "print('The BERT model has {:} different named parameters.\\n'.format(len(params)))\n",
    "\n",
    "print('==== Embedding Layer ====\\n')\n",
    "\n",
    "for p in params[0:5]:\n",
    "    print(\"{:<55} {:>12}\".format(p[0], str(tuple(p[1].size()))))\n",
    "\n",
    "print('\\n==== First Transformer ====\\n')\n",
    "\n",
    "for p in params[5:21]:\n",
    "    print(\"{:<55} {:>12}\".format(p[0], str(tuple(p[1].size()))))\n",
    "\n",
    "print('\\n==== Output Layer ====\\n')\n",
    "\n",
    "for p in params[-4:]:\n",
    "    print(\"{:<55} {:>12}\".format(p[0], str(tuple(p[1].size()))))"
   ]
  },
  {
   "cell_type": "markdown",
   "metadata": {
    "id": "qRWT-D4U_Pvx"
   },
   "source": [
    "## 4.2. Optimizer & Learning Rate Scheduler"
   ]
  },
  {
   "cell_type": "markdown",
   "metadata": {
    "id": "8o-VEBobKwHk"
   },
   "source": [
    "Now that we have our model loaded we need to grab the training hyperparameters from within the stored model.\n",
    "\n",
    "For the purposes of fine-tuning, the authors recommend choosing from the following values:\n",
    "- Batch size: 16, 32  (We chose 32 when creating our DataLoaders).\n",
    "- Learning rate (Adam): 5e-5, 3e-5, 2e-5  (We'll use 2e-5).\n",
    "- Number of epochs: 2, 3, 4  (We'll use 4).\n",
    "\n",
    "The epsilon parameter `eps = 1e-8` is \"a very small number to prevent any division by zero in the implementation\" (from [here](https://machinelearningmastery.com/adam-optimization-algorithm-for-deep-learning/)).\n",
    "\n",
    "You can find the creation of the AdamW optimizer in `run_glue.py` [here](https://github.com/huggingface/transformers/blob/5bfcd0485ece086ebcbed2d008813037968a9e58/examples/run_glue.py#L109)."
   ]
  },
  {
   "cell_type": "code",
   "execution_count": 27,
   "metadata": {
    "colab": {
     "base_uri": "https://localhost:8080/"
    },
    "id": "GLs72DuMODJO",
    "outputId": "f1918c06-41f5-49db-fe5e-8d72d27f848e",
    "tags": []
   },
   "outputs": [
    {
     "name": "stderr",
     "output_type": "stream",
     "text": [
      "/home/jovyan/.mlspace/envs/albert_rl/lib/python3.10/site-packages/transformers/optimization.py:521: FutureWarning: This implementation of AdamW is deprecated and will be removed in a future version. Use the PyTorch implementation torch.optim.AdamW instead, or set `no_deprecation_warning=True` to disable this warning\n",
      "  warnings.warn(\n"
     ]
    }
   ],
   "source": [
    "# Note: AdamW is a class from the huggingface library (as opposed to pytorch)\n",
    "\n",
    "optimizer = AdamW(model.parameters(),\n",
    "                  lr = 2e-5, # args.learning_rate - default is 5e-5, our notebook had 2e-5\n",
    "                  eps = 1e-8 # args.adam_epsilon  - default is 1e-8.\n",
    "                )\n"
   ]
  },
  {
   "cell_type": "code",
   "execution_count": 28,
   "metadata": {
    "id": "-p0upAhhRiIx",
    "tags": []
   },
   "outputs": [],
   "source": [
    "from transformers import get_linear_schedule_with_warmup\n",
    "\n",
    "# Number of training epochs (authors recommend between 2 and 4)\n",
    "epochs = 3\n",
    "\n",
    "# Total number of training steps is number of batches * number of epochs.\n",
    "total_steps = len(train_dataloader) * epochs\n",
    "\n",
    "# Create the learning rate scheduler.\n",
    "scheduler = get_linear_schedule_with_warmup(optimizer,\n",
    "                                            num_warmup_steps = 100, # Default value in run_glue.py\n",
    "                                            num_training_steps = total_steps)"
   ]
  },
  {
   "cell_type": "markdown",
   "metadata": {
    "id": "RqfmWwUR_Sox"
   },
   "source": [
    "## 4.3. Training Loop"
   ]
  },
  {
   "cell_type": "markdown",
   "metadata": {
    "id": "_QXZhFb4LnV5"
   },
   "source": [
    "Below is our training loop. There's a lot going on, but fundamentally for each pass in our loop we have a trianing phase and a validation phase. At each pass we need to:\n",
    "\n",
    "Training loop:\n",
    "- Unpack our data inputs and labels\n",
    "- Load data onto the GPU for acceleration\n",
    "- Clear out the gradients calculated in the previous pass.\n",
    "    - In pytorch the gradients accumulate by default (useful for things like RNNs) unless you explicitly clear them out.\n",
    "- Forward pass (feed input data through the network)\n",
    "- Backward pass (backpropagation)\n",
    "- Tell the network to update parameters with optimizer.step()\n",
    "- Track variables for monitoring progress\n",
    "\n",
    "Evalution loop:\n",
    "- Unpack our data inputs and labels\n",
    "- Load data onto the GPU for acceleration\n",
    "- Forward pass (feed input data through the network)\n",
    "- Compute loss on our validation data and track variables for monitoring progress\n",
    "\n",
    "So please read carefully through the comments to get an understanding of what's happening. If you're unfamiliar with pytorch a quick look at some of their [beginner tutorials](https://pytorch.org/tutorials/beginner/blitz/cifar10_tutorial.html#sphx-glr-beginner-blitz-cifar10-tutorial-py) will help show you that training loops really involve only a few simple steps; the rest is usually just decoration and logging.  "
   ]
  },
  {
   "cell_type": "markdown",
   "metadata": {
    "id": "pE5B99H5H2-W"
   },
   "source": [
    "Define a helper function for calculating accuracy."
   ]
  },
  {
   "cell_type": "code",
   "execution_count": 29,
   "metadata": {
    "id": "9cQNvaZ9bnyy",
    "tags": []
   },
   "outputs": [],
   "source": [
    "import numpy as np\n",
    "\n",
    "# Function to calculate the accuracy of our predictions vs labels\n",
    "def flat_accuracy(preds, labels):\n",
    "    pred_flat = np.argmax(preds, axis=1).flatten()\n",
    "    labels_flat = labels.flatten()\n",
    "    return np.sum(pred_flat == labels_flat) / len(labels_flat)"
   ]
  },
  {
   "cell_type": "markdown",
   "metadata": {
    "id": "KNhRtWPXH9C3"
   },
   "source": [
    "Helper function for formatting elapsed times.\n"
   ]
  },
  {
   "cell_type": "code",
   "execution_count": 30,
   "metadata": {
    "id": "gpt6tR83keZD",
    "tags": []
   },
   "outputs": [],
   "source": [
    "import time\n",
    "import datetime\n",
    "\n",
    "def format_time(elapsed):\n",
    "    '''\n",
    "    Takes a time in seconds and returns a string hh:mm:ss\n",
    "    '''\n",
    "    # Round to the nearest second.\n",
    "    elapsed_rounded = int(round((elapsed)))\n",
    "\n",
    "    # Format as hh:mm:ss\n",
    "    return str(datetime.timedelta(seconds=elapsed_rounded))\n"
   ]
  },
  {
   "cell_type": "markdown",
   "metadata": {
    "id": "cfNIhN19te3N"
   },
   "source": [
    "We're ready to kick off the training!"
   ]
  },
  {
   "cell_type": "code",
   "execution_count": 31,
   "metadata": {
    "id": "ArqTqomIMKjv",
    "tags": []
   },
   "outputs": [],
   "source": [
    "device = torch.device('cuda' if torch.cuda.is_available() else 'cpu')"
   ]
  },
  {
   "cell_type": "code",
   "execution_count": 32,
   "metadata": {
    "colab": {
     "base_uri": "https://localhost:8080/"
    },
    "id": "6J-FYdx6nFE_",
    "outputId": "989dd3e5-540b-4d0b-9ca5-a552b51fa8d9",
    "tags": []
   },
   "outputs": [
    {
     "name": "stdout",
     "output_type": "stream",
     "text": [
      "\n",
      "======== Epoch 1 / 3 ========\n",
      "Training...\n",
      "  Batch    40  of  7,072.    Elapsed: 0:00:14.\n",
      "  Batch    80  of  7,072.    Elapsed: 0:00:27.\n",
      "  Batch   120  of  7,072.    Elapsed: 0:00:41.\n",
      "  Batch   160  of  7,072.    Elapsed: 0:00:54.\n",
      "  Batch   200  of  7,072.    Elapsed: 0:01:07.\n",
      "  Batch   240  of  7,072.    Elapsed: 0:01:21.\n",
      "  Batch   280  of  7,072.    Elapsed: 0:01:34.\n",
      "  Batch   320  of  7,072.    Elapsed: 0:01:48.\n",
      "  Batch   360  of  7,072.    Elapsed: 0:02:01.\n",
      "  Batch   400  of  7,072.    Elapsed: 0:02:15.\n",
      "  Batch   440  of  7,072.    Elapsed: 0:02:28.\n",
      "  Batch   480  of  7,072.    Elapsed: 0:02:42.\n",
      "  Batch   520  of  7,072.    Elapsed: 0:02:56.\n",
      "  Batch   560  of  7,072.    Elapsed: 0:03:09.\n",
      "  Batch   600  of  7,072.    Elapsed: 0:03:23.\n",
      "  Batch   640  of  7,072.    Elapsed: 0:03:36.\n",
      "  Batch   680  of  7,072.    Elapsed: 0:03:50.\n",
      "  Batch   720  of  7,072.    Elapsed: 0:04:03.\n",
      "  Batch   760  of  7,072.    Elapsed: 0:04:17.\n",
      "  Batch   800  of  7,072.    Elapsed: 0:04:30.\n",
      "  Batch   840  of  7,072.    Elapsed: 0:04:44.\n",
      "  Batch   880  of  7,072.    Elapsed: 0:04:57.\n",
      "  Batch   920  of  7,072.    Elapsed: 0:05:11.\n",
      "  Batch   960  of  7,072.    Elapsed: 0:05:25.\n",
      "  Batch 1,000  of  7,072.    Elapsed: 0:05:38.\n",
      "  Batch 1,040  of  7,072.    Elapsed: 0:05:52.\n",
      "  Batch 1,080  of  7,072.    Elapsed: 0:06:05.\n",
      "  Batch 1,120  of  7,072.    Elapsed: 0:06:19.\n",
      "  Batch 1,160  of  7,072.    Elapsed: 0:06:32.\n",
      "  Batch 1,200  of  7,072.    Elapsed: 0:06:46.\n",
      "  Batch 1,240  of  7,072.    Elapsed: 0:07:00.\n",
      "  Batch 1,280  of  7,072.    Elapsed: 0:07:13.\n",
      "  Batch 1,320  of  7,072.    Elapsed: 0:07:27.\n",
      "  Batch 1,360  of  7,072.    Elapsed: 0:07:40.\n",
      "  Batch 1,400  of  7,072.    Elapsed: 0:07:54.\n",
      "  Batch 1,440  of  7,072.    Elapsed: 0:08:07.\n",
      "  Batch 1,480  of  7,072.    Elapsed: 0:08:21.\n",
      "  Batch 1,520  of  7,072.    Elapsed: 0:08:34.\n",
      "  Batch 1,560  of  7,072.    Elapsed: 0:08:48.\n",
      "  Batch 1,600  of  7,072.    Elapsed: 0:09:02.\n",
      "  Batch 1,640  of  7,072.    Elapsed: 0:09:15.\n",
      "  Batch 1,680  of  7,072.    Elapsed: 0:09:29.\n",
      "  Batch 1,720  of  7,072.    Elapsed: 0:09:42.\n",
      "  Batch 1,760  of  7,072.    Elapsed: 0:09:56.\n",
      "  Batch 1,800  of  7,072.    Elapsed: 0:10:09.\n",
      "  Batch 1,840  of  7,072.    Elapsed: 0:10:23.\n",
      "  Batch 1,880  of  7,072.    Elapsed: 0:10:37.\n",
      "  Batch 1,920  of  7,072.    Elapsed: 0:10:50.\n",
      "  Batch 1,960  of  7,072.    Elapsed: 0:11:04.\n",
      "  Batch 2,000  of  7,072.    Elapsed: 0:11:17.\n",
      "  Batch 2,040  of  7,072.    Elapsed: 0:11:31.\n",
      "  Batch 2,080  of  7,072.    Elapsed: 0:11:44.\n",
      "  Batch 2,120  of  7,072.    Elapsed: 0:11:58.\n",
      "  Batch 2,160  of  7,072.    Elapsed: 0:12:12.\n",
      "  Batch 2,200  of  7,072.    Elapsed: 0:12:25.\n",
      "  Batch 2,240  of  7,072.    Elapsed: 0:12:39.\n",
      "  Batch 2,280  of  7,072.    Elapsed: 0:12:52.\n",
      "  Batch 2,320  of  7,072.    Elapsed: 0:13:06.\n",
      "  Batch 2,360  of  7,072.    Elapsed: 0:13:19.\n",
      "  Batch 2,400  of  7,072.    Elapsed: 0:13:33.\n",
      "  Batch 2,440  of  7,072.    Elapsed: 0:13:47.\n",
      "  Batch 2,480  of  7,072.    Elapsed: 0:14:00.\n",
      "  Batch 2,520  of  7,072.    Elapsed: 0:14:14.\n",
      "  Batch 2,560  of  7,072.    Elapsed: 0:14:27.\n",
      "  Batch 2,600  of  7,072.    Elapsed: 0:14:41.\n",
      "  Batch 2,640  of  7,072.    Elapsed: 0:14:54.\n",
      "  Batch 2,680  of  7,072.    Elapsed: 0:15:08.\n",
      "  Batch 2,720  of  7,072.    Elapsed: 0:15:22.\n",
      "  Batch 2,760  of  7,072.    Elapsed: 0:15:35.\n",
      "  Batch 2,800  of  7,072.    Elapsed: 0:15:49.\n",
      "  Batch 2,840  of  7,072.    Elapsed: 0:16:02.\n",
      "  Batch 2,880  of  7,072.    Elapsed: 0:16:16.\n",
      "  Batch 2,920  of  7,072.    Elapsed: 0:16:29.\n",
      "  Batch 2,960  of  7,072.    Elapsed: 0:16:43.\n",
      "  Batch 3,000  of  7,072.    Elapsed: 0:16:56.\n",
      "  Batch 3,040  of  7,072.    Elapsed: 0:17:10.\n",
      "  Batch 3,080  of  7,072.    Elapsed: 0:17:24.\n",
      "  Batch 3,120  of  7,072.    Elapsed: 0:17:37.\n",
      "  Batch 3,160  of  7,072.    Elapsed: 0:17:51.\n",
      "  Batch 3,200  of  7,072.    Elapsed: 0:18:04.\n",
      "  Batch 3,240  of  7,072.    Elapsed: 0:18:18.\n",
      "  Batch 3,280  of  7,072.    Elapsed: 0:18:31.\n",
      "  Batch 3,320  of  7,072.    Elapsed: 0:18:45.\n",
      "  Batch 3,360  of  7,072.    Elapsed: 0:18:59.\n",
      "  Batch 3,400  of  7,072.    Elapsed: 0:19:12.\n",
      "  Batch 3,440  of  7,072.    Elapsed: 0:19:26.\n",
      "  Batch 3,480  of  7,072.    Elapsed: 0:19:39.\n",
      "  Batch 3,520  of  7,072.    Elapsed: 0:19:53.\n",
      "  Batch 3,560  of  7,072.    Elapsed: 0:20:06.\n",
      "  Batch 3,600  of  7,072.    Elapsed: 0:20:20.\n",
      "  Batch 3,640  of  7,072.    Elapsed: 0:20:34.\n",
      "  Batch 3,680  of  7,072.    Elapsed: 0:20:47.\n",
      "  Batch 3,720  of  7,072.    Elapsed: 0:21:01.\n",
      "  Batch 3,760  of  7,072.    Elapsed: 0:21:14.\n",
      "  Batch 3,800  of  7,072.    Elapsed: 0:21:28.\n",
      "  Batch 3,840  of  7,072.    Elapsed: 0:21:41.\n",
      "  Batch 3,880  of  7,072.    Elapsed: 0:21:55.\n",
      "  Batch 3,920  of  7,072.    Elapsed: 0:22:08.\n",
      "  Batch 3,960  of  7,072.    Elapsed: 0:22:22.\n",
      "  Batch 4,000  of  7,072.    Elapsed: 0:22:36.\n",
      "  Batch 4,040  of  7,072.    Elapsed: 0:22:49.\n",
      "  Batch 4,080  of  7,072.    Elapsed: 0:23:03.\n",
      "  Batch 4,120  of  7,072.    Elapsed: 0:23:16.\n",
      "  Batch 4,160  of  7,072.    Elapsed: 0:23:30.\n",
      "  Batch 4,200  of  7,072.    Elapsed: 0:23:43.\n",
      "  Batch 4,240  of  7,072.    Elapsed: 0:23:57.\n",
      "  Batch 4,280  of  7,072.    Elapsed: 0:24:11.\n",
      "  Batch 4,320  of  7,072.    Elapsed: 0:24:24.\n",
      "  Batch 4,360  of  7,072.    Elapsed: 0:24:38.\n",
      "  Batch 4,400  of  7,072.    Elapsed: 0:24:51.\n",
      "  Batch 4,440  of  7,072.    Elapsed: 0:25:05.\n",
      "  Batch 4,480  of  7,072.    Elapsed: 0:25:18.\n",
      "  Batch 4,520  of  7,072.    Elapsed: 0:25:32.\n",
      "  Batch 4,560  of  7,072.    Elapsed: 0:25:46.\n",
      "  Batch 4,600  of  7,072.    Elapsed: 0:25:59.\n",
      "  Batch 4,640  of  7,072.    Elapsed: 0:26:13.\n",
      "  Batch 4,680  of  7,072.    Elapsed: 0:26:26.\n",
      "  Batch 4,720  of  7,072.    Elapsed: 0:26:40.\n",
      "  Batch 4,760  of  7,072.    Elapsed: 0:26:53.\n",
      "  Batch 4,800  of  7,072.    Elapsed: 0:27:07.\n",
      "  Batch 4,840  of  7,072.    Elapsed: 0:27:21.\n",
      "  Batch 4,880  of  7,072.    Elapsed: 0:27:34.\n",
      "  Batch 4,920  of  7,072.    Elapsed: 0:27:48.\n",
      "  Batch 4,960  of  7,072.    Elapsed: 0:28:01.\n",
      "  Batch 5,000  of  7,072.    Elapsed: 0:28:15.\n",
      "  Batch 5,040  of  7,072.    Elapsed: 0:28:28.\n",
      "  Batch 5,080  of  7,072.    Elapsed: 0:28:42.\n",
      "  Batch 5,120  of  7,072.    Elapsed: 0:28:56.\n",
      "  Batch 5,160  of  7,072.    Elapsed: 0:29:09.\n",
      "  Batch 5,200  of  7,072.    Elapsed: 0:29:23.\n",
      "  Batch 5,240  of  7,072.    Elapsed: 0:29:36.\n",
      "  Batch 5,280  of  7,072.    Elapsed: 0:29:50.\n",
      "  Batch 5,320  of  7,072.    Elapsed: 0:30:03.\n",
      "  Batch 5,360  of  7,072.    Elapsed: 0:30:17.\n",
      "  Batch 5,400  of  7,072.    Elapsed: 0:30:31.\n",
      "  Batch 5,440  of  7,072.    Elapsed: 0:30:44.\n",
      "  Batch 5,480  of  7,072.    Elapsed: 0:30:58.\n",
      "  Batch 5,520  of  7,072.    Elapsed: 0:31:11.\n",
      "  Batch 5,560  of  7,072.    Elapsed: 0:31:25.\n",
      "  Batch 5,600  of  7,072.    Elapsed: 0:31:38.\n",
      "  Batch 5,640  of  7,072.    Elapsed: 0:31:52.\n",
      "  Batch 5,680  of  7,072.    Elapsed: 0:32:06.\n",
      "  Batch 5,720  of  7,072.    Elapsed: 0:32:19.\n",
      "  Batch 5,760  of  7,072.    Elapsed: 0:32:33.\n",
      "  Batch 5,800  of  7,072.    Elapsed: 0:32:46.\n",
      "  Batch 5,840  of  7,072.    Elapsed: 0:33:00.\n",
      "  Batch 5,880  of  7,072.    Elapsed: 0:33:13.\n",
      "  Batch 5,920  of  7,072.    Elapsed: 0:33:27.\n",
      "  Batch 5,960  of  7,072.    Elapsed: 0:33:40.\n",
      "  Batch 6,000  of  7,072.    Elapsed: 0:33:54.\n",
      "  Batch 6,040  of  7,072.    Elapsed: 0:34:08.\n",
      "  Batch 6,080  of  7,072.    Elapsed: 0:34:21.\n",
      "  Batch 6,120  of  7,072.    Elapsed: 0:34:35.\n",
      "  Batch 6,160  of  7,072.    Elapsed: 0:34:48.\n",
      "  Batch 6,200  of  7,072.    Elapsed: 0:35:02.\n",
      "  Batch 6,240  of  7,072.    Elapsed: 0:35:15.\n",
      "  Batch 6,280  of  7,072.    Elapsed: 0:35:29.\n",
      "  Batch 6,320  of  7,072.    Elapsed: 0:35:43.\n",
      "  Batch 6,360  of  7,072.    Elapsed: 0:35:56.\n",
      "  Batch 6,400  of  7,072.    Elapsed: 0:36:10.\n",
      "  Batch 6,440  of  7,072.    Elapsed: 0:36:23.\n",
      "  Batch 6,480  of  7,072.    Elapsed: 0:36:37.\n",
      "  Batch 6,520  of  7,072.    Elapsed: 0:36:50.\n",
      "  Batch 6,560  of  7,072.    Elapsed: 0:37:04.\n",
      "  Batch 6,600  of  7,072.    Elapsed: 0:37:18.\n",
      "  Batch 6,640  of  7,072.    Elapsed: 0:37:31.\n",
      "  Batch 6,680  of  7,072.    Elapsed: 0:37:45.\n",
      "  Batch 6,720  of  7,072.    Elapsed: 0:37:58.\n",
      "  Batch 6,760  of  7,072.    Elapsed: 0:38:12.\n",
      "  Batch 6,800  of  7,072.    Elapsed: 0:38:25.\n",
      "  Batch 6,840  of  7,072.    Elapsed: 0:38:39.\n",
      "  Batch 6,880  of  7,072.    Elapsed: 0:38:53.\n",
      "  Batch 6,920  of  7,072.    Elapsed: 0:39:06.\n",
      "  Batch 6,960  of  7,072.    Elapsed: 0:39:20.\n",
      "  Batch 7,000  of  7,072.    Elapsed: 0:39:33.\n",
      "  Batch 7,040  of  7,072.    Elapsed: 0:39:47.\n",
      "\n",
      "  Average training loss: 0.27\n",
      "  Training epcoh took: 0:39:57\n",
      "\n",
      "Running Validation...\n",
      "  Accuracy: 0.92\n",
      "  Validation took: 0:01:30\n",
      "\n",
      "======== Epoch 2 / 3 ========\n",
      "Training...\n",
      "  Batch    40  of  7,072.    Elapsed: 0:00:14.\n",
      "  Batch    80  of  7,072.    Elapsed: 0:00:27.\n",
      "  Batch   120  of  7,072.    Elapsed: 0:00:41.\n",
      "  Batch   160  of  7,072.    Elapsed: 0:00:54.\n",
      "  Batch   200  of  7,072.    Elapsed: 0:01:08.\n",
      "  Batch   240  of  7,072.    Elapsed: 0:01:21.\n",
      "  Batch   280  of  7,072.    Elapsed: 0:01:35.\n",
      "  Batch   320  of  7,072.    Elapsed: 0:01:49.\n",
      "  Batch   360  of  7,072.    Elapsed: 0:02:02.\n",
      "  Batch   400  of  7,072.    Elapsed: 0:02:16.\n",
      "  Batch   440  of  7,072.    Elapsed: 0:02:29.\n",
      "  Batch   480  of  7,072.    Elapsed: 0:02:43.\n",
      "  Batch   520  of  7,072.    Elapsed: 0:02:56.\n",
      "  Batch   560  of  7,072.    Elapsed: 0:03:10.\n",
      "  Batch   600  of  7,072.    Elapsed: 0:03:24.\n",
      "  Batch   640  of  7,072.    Elapsed: 0:03:37.\n",
      "  Batch   680  of  7,072.    Elapsed: 0:03:51.\n",
      "  Batch   720  of  7,072.    Elapsed: 0:04:04.\n",
      "  Batch   760  of  7,072.    Elapsed: 0:04:18.\n",
      "  Batch   800  of  7,072.    Elapsed: 0:04:31.\n",
      "  Batch   840  of  7,072.    Elapsed: 0:04:45.\n",
      "  Batch   880  of  7,072.    Elapsed: 0:04:59.\n",
      "  Batch   920  of  7,072.    Elapsed: 0:05:12.\n",
      "  Batch   960  of  7,072.    Elapsed: 0:05:26.\n",
      "  Batch 1,000  of  7,072.    Elapsed: 0:05:39.\n",
      "  Batch 1,040  of  7,072.    Elapsed: 0:05:53.\n",
      "  Batch 1,080  of  7,072.    Elapsed: 0:06:06.\n",
      "  Batch 1,120  of  7,072.    Elapsed: 0:06:20.\n",
      "  Batch 1,160  of  7,072.    Elapsed: 0:06:33.\n",
      "  Batch 1,200  of  7,072.    Elapsed: 0:06:47.\n",
      "  Batch 1,240  of  7,072.    Elapsed: 0:07:01.\n",
      "  Batch 1,280  of  7,072.    Elapsed: 0:07:14.\n",
      "  Batch 1,320  of  7,072.    Elapsed: 0:07:28.\n",
      "  Batch 1,360  of  7,072.    Elapsed: 0:07:41.\n",
      "  Batch 1,400  of  7,072.    Elapsed: 0:07:55.\n",
      "  Batch 1,440  of  7,072.    Elapsed: 0:08:08.\n",
      "  Batch 1,480  of  7,072.    Elapsed: 0:08:22.\n",
      "  Batch 1,520  of  7,072.    Elapsed: 0:08:36.\n",
      "  Batch 1,560  of  7,072.    Elapsed: 0:08:49.\n",
      "  Batch 1,600  of  7,072.    Elapsed: 0:09:03.\n",
      "  Batch 1,640  of  7,072.    Elapsed: 0:09:16.\n",
      "  Batch 1,680  of  7,072.    Elapsed: 0:09:30.\n",
      "  Batch 1,720  of  7,072.    Elapsed: 0:09:44.\n",
      "  Batch 1,760  of  7,072.    Elapsed: 0:09:57.\n",
      "  Batch 1,800  of  7,072.    Elapsed: 0:10:11.\n",
      "  Batch 1,840  of  7,072.    Elapsed: 0:10:24.\n",
      "  Batch 1,880  of  7,072.    Elapsed: 0:10:38.\n",
      "  Batch 1,920  of  7,072.    Elapsed: 0:10:51.\n",
      "  Batch 1,960  of  7,072.    Elapsed: 0:11:05.\n",
      "  Batch 2,000  of  7,072.    Elapsed: 0:11:18.\n",
      "  Batch 2,040  of  7,072.    Elapsed: 0:11:32.\n",
      "  Batch 2,080  of  7,072.    Elapsed: 0:11:46.\n",
      "  Batch 2,120  of  7,072.    Elapsed: 0:11:59.\n",
      "  Batch 2,160  of  7,072.    Elapsed: 0:12:13.\n",
      "  Batch 2,200  of  7,072.    Elapsed: 0:12:26.\n",
      "  Batch 2,240  of  7,072.    Elapsed: 0:12:40.\n",
      "  Batch 2,280  of  7,072.    Elapsed: 0:12:53.\n",
      "  Batch 2,320  of  7,072.    Elapsed: 0:13:07.\n",
      "  Batch 2,360  of  7,072.    Elapsed: 0:13:21.\n",
      "  Batch 2,400  of  7,072.    Elapsed: 0:13:34.\n",
      "  Batch 2,440  of  7,072.    Elapsed: 0:13:48.\n",
      "  Batch 2,480  of  7,072.    Elapsed: 0:14:01.\n",
      "  Batch 2,520  of  7,072.    Elapsed: 0:14:15.\n",
      "  Batch 2,560  of  7,072.    Elapsed: 0:14:28.\n",
      "  Batch 2,600  of  7,072.    Elapsed: 0:14:42.\n",
      "  Batch 2,640  of  7,072.    Elapsed: 0:14:55.\n",
      "  Batch 2,680  of  7,072.    Elapsed: 0:15:09.\n",
      "  Batch 2,720  of  7,072.    Elapsed: 0:15:23.\n",
      "  Batch 2,760  of  7,072.    Elapsed: 0:15:36.\n",
      "  Batch 2,800  of  7,072.    Elapsed: 0:15:50.\n",
      "  Batch 2,840  of  7,072.    Elapsed: 0:16:03.\n",
      "  Batch 2,880  of  7,072.    Elapsed: 0:16:17.\n",
      "  Batch 2,920  of  7,072.    Elapsed: 0:16:30.\n",
      "  Batch 2,960  of  7,072.    Elapsed: 0:16:44.\n",
      "  Batch 3,000  of  7,072.    Elapsed: 0:16:58.\n",
      "  Batch 3,040  of  7,072.    Elapsed: 0:17:11.\n",
      "  Batch 3,080  of  7,072.    Elapsed: 0:17:25.\n",
      "  Batch 3,120  of  7,072.    Elapsed: 0:17:38.\n",
      "  Batch 3,160  of  7,072.    Elapsed: 0:17:52.\n",
      "  Batch 3,200  of  7,072.    Elapsed: 0:18:05.\n",
      "  Batch 3,240  of  7,072.    Elapsed: 0:18:19.\n",
      "  Batch 3,280  of  7,072.    Elapsed: 0:18:32.\n",
      "  Batch 3,320  of  7,072.    Elapsed: 0:18:46.\n",
      "  Batch 3,360  of  7,072.    Elapsed: 0:19:00.\n",
      "  Batch 3,400  of  7,072.    Elapsed: 0:19:13.\n",
      "  Batch 3,440  of  7,072.    Elapsed: 0:19:27.\n",
      "  Batch 3,480  of  7,072.    Elapsed: 0:19:40.\n",
      "  Batch 3,520  of  7,072.    Elapsed: 0:19:54.\n",
      "  Batch 3,560  of  7,072.    Elapsed: 0:20:07.\n",
      "  Batch 3,600  of  7,072.    Elapsed: 0:20:21.\n",
      "  Batch 3,640  of  7,072.    Elapsed: 0:20:35.\n",
      "  Batch 3,680  of  7,072.    Elapsed: 0:20:48.\n",
      "  Batch 3,720  of  7,072.    Elapsed: 0:21:02.\n",
      "  Batch 3,760  of  7,072.    Elapsed: 0:21:15.\n",
      "  Batch 3,800  of  7,072.    Elapsed: 0:21:29.\n",
      "  Batch 3,840  of  7,072.    Elapsed: 0:21:42.\n",
      "  Batch 3,880  of  7,072.    Elapsed: 0:21:56.\n",
      "  Batch 3,920  of  7,072.    Elapsed: 0:22:10.\n",
      "  Batch 3,960  of  7,072.    Elapsed: 0:22:23.\n",
      "  Batch 4,000  of  7,072.    Elapsed: 0:22:37.\n",
      "  Batch 4,040  of  7,072.    Elapsed: 0:22:50.\n",
      "  Batch 4,080  of  7,072.    Elapsed: 0:23:04.\n",
      "  Batch 4,120  of  7,072.    Elapsed: 0:23:17.\n",
      "  Batch 4,160  of  7,072.    Elapsed: 0:23:31.\n",
      "  Batch 4,200  of  7,072.    Elapsed: 0:23:44.\n",
      "  Batch 4,240  of  7,072.    Elapsed: 0:23:58.\n",
      "  Batch 4,280  of  7,072.    Elapsed: 0:24:12.\n",
      "  Batch 4,320  of  7,072.    Elapsed: 0:24:25.\n",
      "  Batch 4,360  of  7,072.    Elapsed: 0:24:39.\n",
      "  Batch 4,400  of  7,072.    Elapsed: 0:24:52.\n",
      "  Batch 4,440  of  7,072.    Elapsed: 0:25:06.\n",
      "  Batch 4,480  of  7,072.    Elapsed: 0:25:19.\n",
      "  Batch 4,520  of  7,072.    Elapsed: 0:25:33.\n",
      "  Batch 4,560  of  7,072.    Elapsed: 0:25:47.\n",
      "  Batch 4,600  of  7,072.    Elapsed: 0:26:00.\n",
      "  Batch 4,640  of  7,072.    Elapsed: 0:26:14.\n",
      "  Batch 4,680  of  7,072.    Elapsed: 0:26:27.\n",
      "  Batch 4,720  of  7,072.    Elapsed: 0:26:41.\n",
      "  Batch 4,760  of  7,072.    Elapsed: 0:26:54.\n",
      "  Batch 4,800  of  7,072.    Elapsed: 0:27:08.\n",
      "  Batch 4,840  of  7,072.    Elapsed: 0:27:22.\n",
      "  Batch 4,880  of  7,072.    Elapsed: 0:27:35.\n",
      "  Batch 4,920  of  7,072.    Elapsed: 0:27:49.\n",
      "  Batch 4,960  of  7,072.    Elapsed: 0:28:02.\n",
      "  Batch 5,000  of  7,072.    Elapsed: 0:28:16.\n",
      "  Batch 5,040  of  7,072.    Elapsed: 0:28:29.\n",
      "  Batch 5,080  of  7,072.    Elapsed: 0:28:43.\n",
      "  Batch 5,120  of  7,072.    Elapsed: 0:28:56.\n",
      "  Batch 5,160  of  7,072.    Elapsed: 0:29:10.\n",
      "  Batch 5,200  of  7,072.    Elapsed: 0:29:24.\n",
      "  Batch 5,240  of  7,072.    Elapsed: 0:29:37.\n",
      "  Batch 5,280  of  7,072.    Elapsed: 0:29:51.\n",
      "  Batch 5,320  of  7,072.    Elapsed: 0:30:04.\n",
      "  Batch 5,360  of  7,072.    Elapsed: 0:30:18.\n",
      "  Batch 5,400  of  7,072.    Elapsed: 0:30:31.\n",
      "  Batch 5,440  of  7,072.    Elapsed: 0:30:45.\n",
      "  Batch 5,480  of  7,072.    Elapsed: 0:30:59.\n",
      "  Batch 5,520  of  7,072.    Elapsed: 0:31:12.\n",
      "  Batch 5,560  of  7,072.    Elapsed: 0:31:26.\n",
      "  Batch 5,600  of  7,072.    Elapsed: 0:31:39.\n",
      "  Batch 5,640  of  7,072.    Elapsed: 0:31:53.\n",
      "  Batch 5,680  of  7,072.    Elapsed: 0:32:06.\n",
      "  Batch 5,720  of  7,072.    Elapsed: 0:32:20.\n",
      "  Batch 5,760  of  7,072.    Elapsed: 0:32:33.\n",
      "  Batch 5,800  of  7,072.    Elapsed: 0:32:47.\n",
      "  Batch 5,840  of  7,072.    Elapsed: 0:33:01.\n",
      "  Batch 5,880  of  7,072.    Elapsed: 0:33:14.\n",
      "  Batch 5,920  of  7,072.    Elapsed: 0:33:28.\n",
      "  Batch 5,960  of  7,072.    Elapsed: 0:33:41.\n",
      "  Batch 6,000  of  7,072.    Elapsed: 0:33:55.\n",
      "  Batch 6,040  of  7,072.    Elapsed: 0:34:08.\n",
      "  Batch 6,080  of  7,072.    Elapsed: 0:34:22.\n",
      "  Batch 6,120  of  7,072.    Elapsed: 0:34:36.\n",
      "  Batch 6,160  of  7,072.    Elapsed: 0:34:49.\n",
      "  Batch 6,200  of  7,072.    Elapsed: 0:35:03.\n",
      "  Batch 6,240  of  7,072.    Elapsed: 0:35:16.\n",
      "  Batch 6,280  of  7,072.    Elapsed: 0:35:30.\n",
      "  Batch 6,320  of  7,072.    Elapsed: 0:35:43.\n",
      "  Batch 6,360  of  7,072.    Elapsed: 0:35:57.\n",
      "  Batch 6,400  of  7,072.    Elapsed: 0:36:11.\n",
      "  Batch 6,440  of  7,072.    Elapsed: 0:36:24.\n",
      "  Batch 6,480  of  7,072.    Elapsed: 0:36:38.\n",
      "  Batch 6,520  of  7,072.    Elapsed: 0:36:51.\n",
      "  Batch 6,560  of  7,072.    Elapsed: 0:37:05.\n",
      "  Batch 6,600  of  7,072.    Elapsed: 0:37:19.\n",
      "  Batch 6,640  of  7,072.    Elapsed: 0:37:32.\n",
      "  Batch 6,680  of  7,072.    Elapsed: 0:37:46.\n",
      "  Batch 6,720  of  7,072.    Elapsed: 0:37:59.\n",
      "  Batch 6,760  of  7,072.    Elapsed: 0:38:13.\n",
      "  Batch 6,800  of  7,072.    Elapsed: 0:38:26.\n",
      "  Batch 6,840  of  7,072.    Elapsed: 0:38:40.\n",
      "  Batch 6,880  of  7,072.    Elapsed: 0:38:54.\n",
      "  Batch 6,920  of  7,072.    Elapsed: 0:39:07.\n",
      "  Batch 6,960  of  7,072.    Elapsed: 0:39:21.\n",
      "  Batch 7,000  of  7,072.    Elapsed: 0:39:34.\n",
      "  Batch 7,040  of  7,072.    Elapsed: 0:39:48.\n",
      "\n",
      "  Average training loss: 0.14\n",
      "  Training epcoh took: 0:39:58\n",
      "\n",
      "Running Validation...\n",
      "  Accuracy: 0.92\n",
      "  Validation took: 0:01:30\n",
      "\n",
      "======== Epoch 3 / 3 ========\n",
      "Training...\n",
      "  Batch    40  of  7,072.    Elapsed: 0:00:14.\n",
      "  Batch    80  of  7,072.    Elapsed: 0:00:27.\n",
      "  Batch   120  of  7,072.    Elapsed: 0:00:41.\n",
      "  Batch   160  of  7,072.    Elapsed: 0:00:54.\n",
      "  Batch   200  of  7,072.    Elapsed: 0:01:08.\n",
      "  Batch   240  of  7,072.    Elapsed: 0:01:21.\n",
      "  Batch   280  of  7,072.    Elapsed: 0:01:35.\n",
      "  Batch   320  of  7,072.    Elapsed: 0:01:49.\n",
      "  Batch   360  of  7,072.    Elapsed: 0:02:02.\n",
      "  Batch   400  of  7,072.    Elapsed: 0:02:16.\n",
      "  Batch   440  of  7,072.    Elapsed: 0:02:29.\n",
      "  Batch   480  of  7,072.    Elapsed: 0:02:43.\n",
      "  Batch   520  of  7,072.    Elapsed: 0:02:56.\n",
      "  Batch   560  of  7,072.    Elapsed: 0:03:10.\n",
      "  Batch   600  of  7,072.    Elapsed: 0:03:24.\n",
      "  Batch   640  of  7,072.    Elapsed: 0:03:37.\n",
      "  Batch   680  of  7,072.    Elapsed: 0:03:51.\n",
      "  Batch   720  of  7,072.    Elapsed: 0:04:04.\n",
      "  Batch   760  of  7,072.    Elapsed: 0:04:18.\n",
      "  Batch   800  of  7,072.    Elapsed: 0:04:31.\n",
      "  Batch   840  of  7,072.    Elapsed: 0:04:45.\n",
      "  Batch   880  of  7,072.    Elapsed: 0:04:59.\n",
      "  Batch   920  of  7,072.    Elapsed: 0:05:12.\n",
      "  Batch   960  of  7,072.    Elapsed: 0:05:26.\n",
      "  Batch 1,000  of  7,072.    Elapsed: 0:05:39.\n",
      "  Batch 1,040  of  7,072.    Elapsed: 0:05:53.\n",
      "  Batch 1,080  of  7,072.    Elapsed: 0:06:06.\n",
      "  Batch 1,120  of  7,072.    Elapsed: 0:06:20.\n",
      "  Batch 1,160  of  7,072.    Elapsed: 0:06:34.\n",
      "  Batch 1,200  of  7,072.    Elapsed: 0:06:47.\n",
      "  Batch 1,240  of  7,072.    Elapsed: 0:07:01.\n",
      "  Batch 1,280  of  7,072.    Elapsed: 0:07:14.\n",
      "  Batch 1,320  of  7,072.    Elapsed: 0:07:28.\n",
      "  Batch 1,360  of  7,072.    Elapsed: 0:07:41.\n",
      "  Batch 1,400  of  7,072.    Elapsed: 0:07:55.\n",
      "  Batch 1,440  of  7,072.    Elapsed: 0:08:09.\n",
      "  Batch 1,480  of  7,072.    Elapsed: 0:08:22.\n",
      "  Batch 1,520  of  7,072.    Elapsed: 0:08:36.\n",
      "  Batch 1,560  of  7,072.    Elapsed: 0:08:49.\n",
      "  Batch 1,600  of  7,072.    Elapsed: 0:09:03.\n",
      "  Batch 1,640  of  7,072.    Elapsed: 0:09:17.\n",
      "  Batch 1,680  of  7,072.    Elapsed: 0:09:30.\n",
      "  Batch 1,720  of  7,072.    Elapsed: 0:09:44.\n",
      "  Batch 1,760  of  7,072.    Elapsed: 0:09:57.\n",
      "  Batch 1,800  of  7,072.    Elapsed: 0:10:11.\n",
      "  Batch 1,840  of  7,072.    Elapsed: 0:10:25.\n",
      "  Batch 1,880  of  7,072.    Elapsed: 0:10:38.\n",
      "  Batch 1,920  of  7,072.    Elapsed: 0:10:52.\n",
      "  Batch 1,960  of  7,072.    Elapsed: 0:11:05.\n",
      "  Batch 2,000  of  7,072.    Elapsed: 0:11:19.\n",
      "  Batch 2,040  of  7,072.    Elapsed: 0:11:32.\n",
      "  Batch 2,080  of  7,072.    Elapsed: 0:11:46.\n",
      "  Batch 2,120  of  7,072.    Elapsed: 0:12:00.\n",
      "  Batch 2,160  of  7,072.    Elapsed: 0:12:13.\n",
      "  Batch 2,200  of  7,072.    Elapsed: 0:12:27.\n",
      "  Batch 2,240  of  7,072.    Elapsed: 0:12:40.\n",
      "  Batch 2,280  of  7,072.    Elapsed: 0:12:54.\n",
      "  Batch 2,320  of  7,072.    Elapsed: 0:13:08.\n",
      "  Batch 2,360  of  7,072.    Elapsed: 0:13:21.\n",
      "  Batch 2,400  of  7,072.    Elapsed: 0:13:35.\n",
      "  Batch 2,440  of  7,072.    Elapsed: 0:13:48.\n",
      "  Batch 2,480  of  7,072.    Elapsed: 0:14:02.\n",
      "  Batch 2,520  of  7,072.    Elapsed: 0:14:16.\n",
      "  Batch 2,560  of  7,072.    Elapsed: 0:14:29.\n",
      "  Batch 2,600  of  7,072.    Elapsed: 0:14:43.\n",
      "  Batch 2,640  of  7,072.    Elapsed: 0:14:56.\n",
      "  Batch 2,680  of  7,072.    Elapsed: 0:15:10.\n",
      "  Batch 2,720  of  7,072.    Elapsed: 0:15:23.\n",
      "  Batch 2,760  of  7,072.    Elapsed: 0:15:37.\n",
      "  Batch 2,800  of  7,072.    Elapsed: 0:15:51.\n",
      "  Batch 2,840  of  7,072.    Elapsed: 0:16:04.\n",
      "  Batch 2,880  of  7,072.    Elapsed: 0:16:18.\n",
      "  Batch 2,920  of  7,072.    Elapsed: 0:16:31.\n",
      "  Batch 2,960  of  7,072.    Elapsed: 0:16:45.\n",
      "  Batch 3,000  of  7,072.    Elapsed: 0:16:59.\n",
      "  Batch 3,040  of  7,072.    Elapsed: 0:17:12.\n",
      "  Batch 3,080  of  7,072.    Elapsed: 0:17:26.\n",
      "  Batch 3,120  of  7,072.    Elapsed: 0:17:39.\n",
      "  Batch 3,160  of  7,072.    Elapsed: 0:17:53.\n",
      "  Batch 3,200  of  7,072.    Elapsed: 0:18:07.\n",
      "  Batch 3,240  of  7,072.    Elapsed: 0:18:20.\n",
      "  Batch 3,280  of  7,072.    Elapsed: 0:18:34.\n",
      "  Batch 3,320  of  7,072.    Elapsed: 0:18:47.\n",
      "  Batch 3,360  of  7,072.    Elapsed: 0:19:01.\n",
      "  Batch 3,400  of  7,072.    Elapsed: 0:19:15.\n",
      "  Batch 3,440  of  7,072.    Elapsed: 0:19:28.\n",
      "  Batch 3,480  of  7,072.    Elapsed: 0:19:42.\n",
      "  Batch 3,520  of  7,072.    Elapsed: 0:19:55.\n",
      "  Batch 3,560  of  7,072.    Elapsed: 0:20:09.\n",
      "  Batch 3,600  of  7,072.    Elapsed: 0:20:22.\n",
      "  Batch 3,640  of  7,072.    Elapsed: 0:20:36.\n",
      "  Batch 3,680  of  7,072.    Elapsed: 0:20:50.\n",
      "  Batch 3,720  of  7,072.    Elapsed: 0:21:03.\n",
      "  Batch 3,760  of  7,072.    Elapsed: 0:21:17.\n",
      "  Batch 3,800  of  7,072.    Elapsed: 0:21:30.\n",
      "  Batch 3,840  of  7,072.    Elapsed: 0:21:44.\n",
      "  Batch 3,880  of  7,072.    Elapsed: 0:21:58.\n",
      "  Batch 3,920  of  7,072.    Elapsed: 0:22:11.\n",
      "  Batch 3,960  of  7,072.    Elapsed: 0:22:25.\n",
      "  Batch 4,000  of  7,072.    Elapsed: 0:22:38.\n",
      "  Batch 4,040  of  7,072.    Elapsed: 0:22:52.\n",
      "  Batch 4,080  of  7,072.    Elapsed: 0:23:06.\n",
      "  Batch 4,120  of  7,072.    Elapsed: 0:23:19.\n",
      "  Batch 4,160  of  7,072.    Elapsed: 0:23:33.\n",
      "  Batch 4,200  of  7,072.    Elapsed: 0:23:46.\n",
      "  Batch 4,240  of  7,072.    Elapsed: 0:24:00.\n",
      "  Batch 4,280  of  7,072.    Elapsed: 0:24:13.\n",
      "  Batch 4,320  of  7,072.    Elapsed: 0:24:27.\n",
      "  Batch 4,360  of  7,072.    Elapsed: 0:24:41.\n",
      "  Batch 4,400  of  7,072.    Elapsed: 0:24:54.\n",
      "  Batch 4,440  of  7,072.    Elapsed: 0:25:08.\n",
      "  Batch 4,480  of  7,072.    Elapsed: 0:25:21.\n",
      "  Batch 4,520  of  7,072.    Elapsed: 0:25:35.\n",
      "  Batch 4,560  of  7,072.    Elapsed: 0:25:48.\n",
      "  Batch 4,600  of  7,072.    Elapsed: 0:26:02.\n",
      "  Batch 4,640  of  7,072.    Elapsed: 0:26:16.\n",
      "  Batch 4,680  of  7,072.    Elapsed: 0:26:29.\n",
      "  Batch 4,720  of  7,072.    Elapsed: 0:26:43.\n",
      "  Batch 4,760  of  7,072.    Elapsed: 0:26:56.\n",
      "  Batch 4,800  of  7,072.    Elapsed: 0:27:10.\n",
      "  Batch 4,840  of  7,072.    Elapsed: 0:27:23.\n",
      "  Batch 4,880  of  7,072.    Elapsed: 0:27:37.\n",
      "  Batch 4,920  of  7,072.    Elapsed: 0:27:51.\n",
      "  Batch 4,960  of  7,072.    Elapsed: 0:28:04.\n",
      "  Batch 5,000  of  7,072.    Elapsed: 0:28:18.\n",
      "  Batch 5,040  of  7,072.    Elapsed: 0:28:31.\n",
      "  Batch 5,080  of  7,072.    Elapsed: 0:28:45.\n",
      "  Batch 5,120  of  7,072.    Elapsed: 0:28:58.\n",
      "  Batch 5,160  of  7,072.    Elapsed: 0:29:12.\n",
      "  Batch 5,200  of  7,072.    Elapsed: 0:29:25.\n",
      "  Batch 5,240  of  7,072.    Elapsed: 0:29:39.\n",
      "  Batch 5,280  of  7,072.    Elapsed: 0:29:53.\n",
      "  Batch 5,320  of  7,072.    Elapsed: 0:30:06.\n",
      "  Batch 5,360  of  7,072.    Elapsed: 0:30:20.\n",
      "  Batch 5,400  of  7,072.    Elapsed: 0:30:33.\n",
      "  Batch 5,440  of  7,072.    Elapsed: 0:30:47.\n",
      "  Batch 5,480  of  7,072.    Elapsed: 0:31:01.\n",
      "  Batch 5,520  of  7,072.    Elapsed: 0:31:14.\n",
      "  Batch 5,560  of  7,072.    Elapsed: 0:31:28.\n",
      "  Batch 5,600  of  7,072.    Elapsed: 0:31:41.\n",
      "  Batch 5,640  of  7,072.    Elapsed: 0:31:55.\n",
      "  Batch 5,680  of  7,072.    Elapsed: 0:32:08.\n",
      "  Batch 5,720  of  7,072.    Elapsed: 0:32:22.\n",
      "  Batch 5,760  of  7,072.    Elapsed: 0:32:36.\n",
      "  Batch 5,800  of  7,072.    Elapsed: 0:32:49.\n",
      "  Batch 5,840  of  7,072.    Elapsed: 0:33:03.\n",
      "  Batch 5,880  of  7,072.    Elapsed: 0:33:16.\n",
      "  Batch 5,920  of  7,072.    Elapsed: 0:33:30.\n",
      "  Batch 5,960  of  7,072.    Elapsed: 0:33:44.\n",
      "  Batch 6,000  of  7,072.    Elapsed: 0:33:57.\n",
      "  Batch 6,040  of  7,072.    Elapsed: 0:34:11.\n",
      "  Batch 6,080  of  7,072.    Elapsed: 0:34:24.\n",
      "  Batch 6,120  of  7,072.    Elapsed: 0:34:38.\n",
      "  Batch 6,160  of  7,072.    Elapsed: 0:34:51.\n",
      "  Batch 6,200  of  7,072.    Elapsed: 0:35:05.\n",
      "  Batch 6,240  of  7,072.    Elapsed: 0:35:19.\n",
      "  Batch 6,280  of  7,072.    Elapsed: 0:35:32.\n",
      "  Batch 6,320  of  7,072.    Elapsed: 0:35:46.\n",
      "  Batch 6,360  of  7,072.    Elapsed: 0:35:59.\n",
      "  Batch 6,400  of  7,072.    Elapsed: 0:36:13.\n",
      "  Batch 6,440  of  7,072.    Elapsed: 0:36:27.\n",
      "  Batch 6,480  of  7,072.    Elapsed: 0:36:40.\n",
      "  Batch 6,520  of  7,072.    Elapsed: 0:36:54.\n",
      "  Batch 6,560  of  7,072.    Elapsed: 0:37:07.\n",
      "  Batch 6,600  of  7,072.    Elapsed: 0:37:21.\n",
      "  Batch 6,640  of  7,072.    Elapsed: 0:37:34.\n",
      "  Batch 6,680  of  7,072.    Elapsed: 0:37:48.\n",
      "  Batch 6,720  of  7,072.    Elapsed: 0:38:02.\n",
      "  Batch 6,760  of  7,072.    Elapsed: 0:38:15.\n",
      "  Batch 6,800  of  7,072.    Elapsed: 0:38:29.\n",
      "  Batch 6,840  of  7,072.    Elapsed: 0:38:42.\n",
      "  Batch 6,880  of  7,072.    Elapsed: 0:38:56.\n",
      "  Batch 6,920  of  7,072.    Elapsed: 0:39:10.\n",
      "  Batch 6,960  of  7,072.    Elapsed: 0:39:23.\n",
      "  Batch 7,000  of  7,072.    Elapsed: 0:39:37.\n",
      "  Batch 7,040  of  7,072.    Elapsed: 0:39:50.\n",
      "\n",
      "  Average training loss: 0.08\n",
      "  Training epcoh took: 0:40:01\n",
      "\n",
      "Running Validation...\n",
      "  Accuracy: 0.92\n",
      "  Validation took: 0:01:30\n",
      "\n",
      "Training complete!\n"
     ]
    }
   ],
   "source": [
    "import random\n",
    "\n",
    "# This training code is based on the `run_glue.py` script here:\n",
    "# https://github.com/huggingface/transformers/blob/5bfcd0485ece086ebcbed2d008813037968a9e58/examples/run_glue.py#L128\n",
    "\n",
    "\n",
    "# Set the seed value all over the place to make this reproducible.\n",
    "seed_val = 42\n",
    "\n",
    "random.seed(seed_val)\n",
    "np.random.seed(seed_val)\n",
    "torch.manual_seed(seed_val)\n",
    "torch.cuda.manual_seed_all(seed_val)\n",
    "\n",
    "# Store the average loss after each epoch so we can plot them.\n",
    "loss_values = []\n",
    "\n",
    "# For each epoch...\n",
    "for epoch_i in range(0, epochs):\n",
    "\n",
    "    # ========================================\n",
    "    #               Training\n",
    "    # ========================================\n",
    "\n",
    "    # Perform one full pass over the training set.\n",
    "\n",
    "    print(\"\")\n",
    "    print('======== Epoch {:} / {:} ========'.format(epoch_i + 1, epochs))\n",
    "    print('Training...')\n",
    "\n",
    "    # Measure how long the training epoch takes.\n",
    "    t0 = time.time()\n",
    "\n",
    "    # Reset the total loss for this epoch.\n",
    "    total_loss = 0\n",
    "\n",
    "    # Put the model into training mode. Don't be mislead--the call to\n",
    "    # `train` just changes the *mode*, it doesn't *perform* the training.\n",
    "    # `dropout` and `batchnorm` layers behave differently during training\n",
    "    # vs. test (source: https://stackoverflow.com/questions/51433378/what-does-model-train-do-in-pytorch)\n",
    "    model.train()\n",
    "\n",
    "    # For each batch of training data...\n",
    "    for step, batch in enumerate(train_dataloader):\n",
    "\n",
    "        # Progress update every 40 batches.\n",
    "        if step % 40 == 0 and not step == 0:\n",
    "            # Calculate elapsed time in minutes.\n",
    "            elapsed = format_time(time.time() - t0)\n",
    "\n",
    "            # Report progress.\n",
    "            print('  Batch {:>5,}  of  {:>5,}.    Elapsed: {:}.'.format(step, len(train_dataloader), elapsed))\n",
    "\n",
    "        # Unpack this training batch from our dataloader.\n",
    "        #\n",
    "        # As we unpack the batch, we'll also copy each tensor to the GPU using the\n",
    "        # `to` method.\n",
    "        #\n",
    "        # `batch` contains three pytorch tensors:\n",
    "        #   [0]: input ids\n",
    "        #   [1]: attention masks\n",
    "        #   [2]: labels\n",
    "        b_input_ids = batch[0].to(device)\n",
    "        b_input_mask = batch[1].to(device)\n",
    "        b_labels = batch[2].to(device)\n",
    "\n",
    "        # Always clear any previously calculated gradients before performing a\n",
    "        # backward pass. PyTorch doesn't do this automatically because\n",
    "        # accumulating the gradients is \"convenient while training RNNs\".\n",
    "        # (source: https://stackoverflow.com/questions/48001598/why-do-we-need-to-call-zero-grad-in-pytorch)\n",
    "        model.zero_grad()\n",
    "\n",
    "        # Perform a forward pass (evaluate the model on this training batch).\n",
    "        # This will return the loss (rather than the model output) because we\n",
    "        # have provided the `labels`.\n",
    "        # The documentation for this `model` function is here:\n",
    "        # https://huggingface.co/transformers/v2.2.0/model_doc/bert.html#transformers.BertForSequenceClassification\n",
    "        outputs = model(b_input_ids,\n",
    "                    token_type_ids=None,\n",
    "                    attention_mask=b_input_mask,\n",
    "                    labels=b_labels)\n",
    "\n",
    "        # The call to `model` always returns a tuple, so we need to pull the\n",
    "        # loss value out of the tuple.\n",
    "        loss = outputs[0]\n",
    "\n",
    "        # Accumulate the training loss over all of the batches so that we can\n",
    "        # calculate the average loss at the end. `loss` is a Tensor containing a\n",
    "        # single value; the `.item()` function just returns the Python value\n",
    "        # from the tensor.\n",
    "        total_loss += loss.item()\n",
    "\n",
    "        # Perform a backward pass to calculate the gradients.\n",
    "        loss.backward()\n",
    "\n",
    "        # Clip the norm of the gradients to 1.0.\n",
    "        # This is to help prevent the \"exploding gradients\" problem.\n",
    "        torch.nn.utils.clip_grad_norm_(model.parameters(), 1.0)\n",
    "\n",
    "        # Update parameters and take a step using the computed gradient.\n",
    "        # The optimizer dictates the \"update rule\"--how the parameters are\n",
    "        # modified based on their gradients, the learning rate, etc.\n",
    "        optimizer.step()\n",
    "\n",
    "        # Update the learning rate.\n",
    "        scheduler.step()\n",
    "\n",
    "    # Calculate the average loss over the training data.\n",
    "    avg_train_loss = total_loss / len(train_dataloader)\n",
    "\n",
    "    # Store the loss value for plotting the learning curve.\n",
    "    loss_values.append(avg_train_loss)\n",
    "\n",
    "    print(\"\")\n",
    "    print(\"  Average training loss: {0:.2f}\".format(avg_train_loss))\n",
    "    print(\"  Training epcoh took: {:}\".format(format_time(time.time() - t0)))\n",
    "\n",
    "    # ========================================\n",
    "    #               Validation\n",
    "    # ========================================\n",
    "    # After the completion of each training epoch, measure our performance on\n",
    "    # our validation set.\n",
    "\n",
    "    print(\"\")\n",
    "    print(\"Running Validation...\")\n",
    "\n",
    "    t0 = time.time()\n",
    "\n",
    "    # Put the model in evaluation mode--the dropout layers behave differently\n",
    "    # during evaluation.\n",
    "    model.eval()\n",
    "\n",
    "    # Tracking variables\n",
    "    eval_loss, eval_accuracy = 0, 0\n",
    "    nb_eval_steps, nb_eval_examples = 0, 0\n",
    "\n",
    "    # Evaluate data for one epoch\n",
    "    for batch in validation_dataloader:\n",
    "\n",
    "        # Add batch to GPU\n",
    "        batch = tuple(t.to(device) for t in batch)\n",
    "\n",
    "        # Unpack the inputs from our dataloader\n",
    "        b_input_ids, b_input_mask, b_labels = batch\n",
    "\n",
    "        # Telling the model not to compute or store gradients, saving memory and\n",
    "        # speeding up validation\n",
    "        with torch.no_grad():\n",
    "\n",
    "            # Forward pass, calculate logit predictions.\n",
    "            # This will return the logits rather than the loss because we have\n",
    "            # not provided labels.\n",
    "            # token_type_ids is the same as the \"segment ids\", which\n",
    "            # differentiates sentence 1 and 2 in 2-sentence tasks.\n",
    "            # The documentation for this `model` function is here:\n",
    "            # https://huggingface.co/transformers/v2.2.0/model_doc/bert.html#transformers.BertForSequenceClassification\n",
    "            outputs = model(b_input_ids,\n",
    "                            token_type_ids=None,\n",
    "                            attention_mask=b_input_mask)\n",
    "\n",
    "        # Get the \"logits\" output by the model. The \"logits\" are the output\n",
    "        # values prior to applying an activation function like the softmax.\n",
    "        logits = outputs[0]\n",
    "\n",
    "        # Move logits and labels to CPU\n",
    "        logits = logits.detach().cpu().numpy()\n",
    "        label_ids = b_labels.to('cpu').numpy()\n",
    "\n",
    "        # Calculate the accuracy for this batch of test sentences.\n",
    "        tmp_eval_accuracy = flat_accuracy(logits, label_ids)\n",
    "\n",
    "        # Accumulate the total accuracy.\n",
    "        eval_accuracy += tmp_eval_accuracy\n",
    "\n",
    "        # Track the number of batches\n",
    "        nb_eval_steps += 1\n",
    "\n",
    "    # Report the final accuracy for this validation run.\n",
    "    print(\"  Accuracy: {0:.2f}\".format(eval_accuracy/nb_eval_steps))\n",
    "    print(\"  Validation took: {:}\".format(format_time(time.time() - t0)))\n",
    "\n",
    "print(\"\")\n",
    "print(\"Training complete!\")"
   ]
  },
  {
   "cell_type": "markdown",
   "metadata": {
    "id": "1-G03mmwH3aI"
   },
   "source": [
    "Let's take a look at our training loss over all batches:"
   ]
  },
  {
   "cell_type": "code",
   "execution_count": 33,
   "metadata": {
    "colab": {
     "base_uri": "https://localhost:8080/",
     "height": 612
    },
    "id": "68xreA9JAmG5",
    "outputId": "a75eab07-3f16-4193-ac6e-6b4fa24db5bd",
    "tags": []
   },
   "outputs": [
    {
     "data": {
      "image/png": "[encoded data removed]",
      "text/plain": [
       "<Figure size 1200x600 with 1 Axes>"
      ]
     },
     "metadata": {},
     "output_type": "display_data"
    }
   ],
   "source": [
    "import matplotlib.pyplot as plt\n",
    "#% matplotlib inline\n",
    "\n",
    "import seaborn as sns\n",
    "\n",
    "# Use plot styling from seaborn.\n",
    "sns.set(style='darkgrid')\n",
    "\n",
    "# Increase the plot size and font size.\n",
    "sns.set(font_scale=1.5)\n",
    "plt.rcParams[\"figure.figsize\"] = (12,6)\n",
    "\n",
    "# Plot the learning curve.\n",
    "plt.plot(loss_values, 'b-o')\n",
    "\n",
    "# Label the plot.\n",
    "plt.title(\"Training loss\")\n",
    "plt.xlabel(\"Epoch\")\n",
    "plt.ylabel(\"Loss\")\n",
    "\n",
    "plt.show()"
   ]
  },
  {
   "cell_type": "code",
   "execution_count": 39,
   "metadata": {
    "id": "_DjPSt3Nm2w-",
    "tags": []
   },
   "outputs": [],
   "source": [
    "# PATH\n",
    "\n",
    "torch.save(model, 'fun_trained_rubert-base-cased')"
   ]
  },
  {
   "cell_type": "code",
   "execution_count": null,
   "metadata": {
    "tags": []
   },
   "outputs": [],
   "source": [
    "from huggingface_hub import notebook_login\n",
    "\n",
    "notebook_login()"
   ]
  },
  {
   "cell_type": "code",
   "execution_count": 40,
   "metadata": {
    "tags": []
   },
   "outputs": [
    {
     "data": {
      "application/vnd.jupyter.widget-view+json": {
       "model_id": "e2dd47d4f4b240f5a6a51d10bc175aac",
       "version_major": 2,
       "version_minor": 0
      },
      "text/plain": [
       "model.safetensors:   0%|          | 0.00/711M [00:00<?, ?B/s]"
      ]
     },
     "metadata": {},
     "output_type": "display_data"
    },
    {
     "data": {
      "text/plain": [
       "CommitInfo(commit_url='https://huggingface.co/bert-base/fun_trained_rubert-base-cased/commit/c042b396c75bbf64088d05ba4ca0a157c68090a9', commit_message='Upload BertForSequenceClassification', commit_description='', oid='c042b396c75bbf64088d05ba4ca0a157c68090a9', pr_url=None, pr_revision=None, pr_num=None)"
      ]
     },
     "execution_count": 40,
     "metadata": {},
     "output_type": "execute_result"
    }
   ],
   "source": [
    "model.push_to_hub('fun_trained_rubert-base-cased')"
   ]
  },
  {
   "cell_type": "code",
   "execution_count": null,
   "metadata": {},
   "outputs": [],
   "source": []
  }
 ],
 "metadata": {
  "accelerator": "GPU",
  "colab": {
   "provenance": []
  },
  "kernelspec": {
   "display_name": "Python [conda env:.mlspace-albert_rl]",
   "language": "python",
   "name": "conda-env-.mlspace-albert_rl-py"
  },
  "language_info": {
   "codemirror_mode": {
    "name": "ipython",
    "version": 3
   },
   "file_extension": ".py",
   "mimetype": "text/x-python",
   "name": "python",
   "nbconvert_exporter": "python",
   "pygments_lexer": "ipython3",
   "version": "3.10.14"
  },
  "widgets": {
   "application/vnd.jupyter.widget-state+json": {
    "0069d0d3a3424c09be7730293a812f80": {
     "model_module": "@jupyter-widgets/controls",
     "model_module_version": "1.5.0",
     "model_name": "ProgressStyleModel",
     "state": {
      "_model_module": "@jupyter-widgets/controls",
      "_model_module_version": "1.5.0",
      "_model_name": "ProgressStyleModel",
      "_view_count": null,
      "_view_module": "@jupyter-widgets/base",
      "_view_module_version": "1.2.0",
      "_view_name": "StyleView",
      "bar_color": null,
      "description_width": ""
     }
    },
    "02bfd760393e4cad823844718e1adbfe": {
     "model_module": "@jupyter-widgets/controls",
     "model_module_version": "1.5.0",
     "model_name": "FloatProgressModel",
     "state": {
      "_dom_classes": [],
      "_model_module": "@jupyter-widgets/controls",
      "_model_module_version": "1.5.0",
      "_model_name": "FloatProgressModel",
      "_view_count": null,
      "_view_module": "@jupyter-widgets/controls",
      "_view_module_version": "1.5.0",
      "_view_name": "ProgressView",
      "bar_style": "success",
      "description": "",
      "description_tooltip": null,
      "layout": "IPY_MODEL_0775ea5abde74fb7868094d7f6ae251c",
      "max": 642,
      "min": 0,
      "orientation": "horizontal",
      "style": "IPY_MODEL_92c833acf9fc4851895b4c9ae8c70a22",
      "value": 642
     }
    },
    "06e7817b9c8d4ace8de8d7c36ab1eb66": {
     "model_module": "@jupyter-widgets/controls",
     "model_module_version": "1.5.0",
     "model_name": "FloatProgressModel",
     "state": {
      "_dom_classes": [],
      "_model_module": "@jupyter-widgets/controls",
      "_model_module_version": "1.5.0",
      "_model_name": "FloatProgressModel",
      "_view_count": null,
      "_view_module": "@jupyter-widgets/controls",
      "_view_module_version": "1.5.0",
      "_view_name": "ProgressView",
      "bar_style": "success",
      "description": "",
      "description_tooltip": null,
      "layout": "IPY_MODEL_bb610142f3b143c5b99c90d41a51559b",
      "max": 112,
      "min": 0,
      "orientation": "horizontal",
      "style": "IPY_MODEL_3b2580a359a84fa380013030d2c00d21",
      "value": 112
     }
    },
    "0775ea5abde74fb7868094d7f6ae251c": {
     "model_module": "@jupyter-widgets/base",
     "model_module_version": "1.2.0",
     "model_name": "LayoutModel",
     "state": {
      "_model_module": "@jupyter-widgets/base",
      "_model_module_version": "1.2.0",
      "_model_name": "LayoutModel",
      "_view_count": null,
      "_view_module": "@jupyter-widgets/base",
      "_view_module_version": "1.2.0",
      "_view_name": "LayoutView",
      "align_content": null,
      "align_items": null,
      "align_self": null,
      "border": null,
      "bottom": null,
      "display": null,
      "flex": null,
      "flex_flow": null,
      "grid_area": null,
      "grid_auto_columns": null,
      "grid_auto_flow": null,
      "grid_auto_rows": null,
      "grid_column": null,
      "grid_gap": null,
      "grid_row": null,
      "grid_template_areas": null,
      "grid_template_columns": null,
      "grid_template_rows": null,
      "height": null,
      "justify_content": null,
      "justify_items": null,
      "left": null,
      "margin": null,
      "max_height": null,
      "max_width": null,
      "min_height": null,
      "min_width": null,
      "object_fit": null,
      "object_position": null,
      "order": null,
      "overflow": null,
      "overflow_x": null,
      "overflow_y": null,
      "padding": null,
      "right": null,
      "top": null,
      "visibility": null,
      "width": null
     }
    },
    "11e5072b341e4b078eaa70cbad72c318": {
     "model_module": "@jupyter-widgets/base",
     "model_module_version": "1.2.0",
     "model_name": "LayoutModel",
     "state": {
      "_model_module": "@jupyter-widgets/base",
      "_model_module_version": "1.2.0",
      "_model_name": "LayoutModel",
      "_view_count": null,
      "_view_module": "@jupyter-widgets/base",
      "_view_module_version": "1.2.0",
      "_view_name": "LayoutView",
      "align_content": null,
      "align_items": null,
      "align_self": null,
      "border": null,
      "bottom": null,
      "display": null,
      "flex": null,
      "flex_flow": null,
      "grid_area": null,
      "grid_auto_columns": null,
      "grid_auto_flow": null,
      "grid_auto_rows": null,
      "grid_column": null,
      "grid_gap": null,
      "grid_row": null,
      "grid_template_areas": null,
      "grid_template_columns": null,
      "grid_template_rows": null,
      "height": null,
      "justify_content": null,
      "justify_items": null,
      "left": null,
      "margin": null,
      "max_height": null,
      "max_width": null,
      "min_height": null,
      "min_width": null,
      "object_fit": null,
      "object_position": null,
      "order": null,
      "overflow": null,
      "overflow_x": null,
      "overflow_y": null,
      "padding": null,
      "right": null,
      "top": null,
      "visibility": null,
      "width": null
     }
    },
    "1788555bb9c74045b3c86b30c040a083": {
     "model_module": "@jupyter-widgets/base",
     "model_module_version": "1.2.0",
     "model_name": "LayoutModel",
     "state": {
      "_model_module": "@jupyter-widgets/base",
      "_model_module_version": "1.2.0",
      "_model_name": "LayoutModel",
      "_view_count": null,
      "_view_module": "@jupyter-widgets/base",
      "_view_module_version": "1.2.0",
      "_view_name": "LayoutView",
      "align_content": null,
      "align_items": null,
      "align_self": null,
      "border": null,
      "bottom": null,
      "display": null,
      "flex": null,
      "flex_flow": null,
      "grid_area": null,
      "grid_auto_columns": null,
      "grid_auto_flow": null,
      "grid_auto_rows": null,
      "grid_column": null,
      "grid_gap": null,
      "grid_row": null,
      "grid_template_areas": null,
      "grid_template_columns": null,
      "grid_template_rows": null,
      "height": null,
      "justify_content": null,
      "justify_items": null,
      "left": null,
      "margin": null,
      "max_height": null,
      "max_width": null,
      "min_height": null,
      "min_width": null,
      "object_fit": null,
      "object_position": null,
      "order": null,
      "overflow": null,
      "overflow_x": null,
      "overflow_y": null,
      "padding": null,
      "right": null,
      "top": null,
      "visibility": null,
      "width": null
     }
    },
    "19f81b9afd1f4929af9ca5ef4fe51a6f": {
     "model_module": "@jupyter-widgets/controls",
     "model_module_version": "1.5.0",
     "model_name": "HBoxModel",
     "state": {
      "_dom_classes": [],
      "_model_module": "@jupyter-widgets/controls",
      "_model_module_version": "1.5.0",
      "_model_name": "HBoxModel",
      "_view_count": null,
      "_view_module": "@jupyter-widgets/controls",
      "_view_module_version": "1.5.0",
      "_view_name": "HBoxView",
      "box_style": "",
      "children": [
       "IPY_MODEL_30ed34c4adf74440bf21a943813fcbb5",
       "IPY_MODEL_02bfd760393e4cad823844718e1adbfe",
       "IPY_MODEL_83db8217f81142a8a88fc76f83bd2c2c"
      ],
      "layout": "IPY_MODEL_b22ea8a8d8f34ba4b30f99512cfc7fe7"
     }
    },
    "217e1e40e2f648a2af40b384824865e8": {
     "model_module": "@jupyter-widgets/controls",
     "model_module_version": "1.5.0",
     "model_name": "HBoxModel",
     "state": {
      "_dom_classes": [],
      "_model_module": "@jupyter-widgets/controls",
      "_model_module_version": "1.5.0",
      "_model_name": "HBoxModel",
      "_view_count": null,
      "_view_module": "@jupyter-widgets/controls",
      "_view_module_version": "1.5.0",
      "_view_name": "HBoxView",
      "box_style": "",
      "children": [
       "IPY_MODEL_bf93564487804351bdf435973fd0e0ab",
       "IPY_MODEL_83728599267f42a4973c24fc5e5950cc",
       "IPY_MODEL_48fda8e172e44f4c9aeaffef4538c342"
      ],
      "layout": "IPY_MODEL_44079fc5bd6c43b59dd2bdd4d14872c7"
     }
    },
    "260d9d0bea5d4225bf179d95b4aaee59": {
     "model_module": "@jupyter-widgets/controls",
     "model_module_version": "1.5.0",
     "model_name": "HTMLModel",
     "state": {
      "_dom_classes": [],
      "_model_module": "@jupyter-widgets/controls",
      "_model_module_version": "1.5.0",
      "_model_name": "HTMLModel",
      "_view_count": null,
      "_view_module": "@jupyter-widgets/controls",
      "_view_module_version": "1.5.0",
      "_view_name": "HTMLView",
      "description": "",
      "description_tooltip": null,
      "layout": "IPY_MODEL_1788555bb9c74045b3c86b30c040a083",
      "placeholder": "​",
      "style": "IPY_MODEL_60c8023b39a54d5cb1302f09f797e8c0",
      "value": "vocab.txt: 100%"
     }
    },
    "2922d64dd53d413e9f115ca41f7b0479": {
     "model_module": "@jupyter-widgets/base",
     "model_module_version": "1.2.0",
     "model_name": "LayoutModel",
     "state": {
      "_model_module": "@jupyter-widgets/base",
      "_model_module_version": "1.2.0",
      "_model_name": "LayoutModel",
      "_view_count": null,
      "_view_module": "@jupyter-widgets/base",
      "_view_module_version": "1.2.0",
      "_view_name": "LayoutView",
      "align_content": null,
      "align_items": null,
      "align_self": null,
      "border": null,
      "bottom": null,
      "display": null,
      "flex": null,
      "flex_flow": null,
      "grid_area": null,
      "grid_auto_columns": null,
      "grid_auto_flow": null,
      "grid_auto_rows": null,
      "grid_column": null,
      "grid_gap": null,
      "grid_row": null,
      "grid_template_areas": null,
      "grid_template_columns": null,
      "grid_template_rows": null,
      "height": null,
      "justify_content": null,
      "justify_items": null,
      "left": null,
      "margin": null,
      "max_height": null,
      "max_width": null,
      "min_height": null,
      "min_width": null,
      "object_fit": null,
      "object_position": null,
      "order": null,
      "overflow": null,
      "overflow_x": null,
      "overflow_y": null,
      "padding": null,
      "right": null,
      "top": null,
      "visibility": null,
      "width": null
     }
    },
    "2ea9984794b34092ad1155863030a577": {
     "model_module": "@jupyter-widgets/controls",
     "model_module_version": "1.5.0",
     "model_name": "HTMLModel",
     "state": {
      "_dom_classes": [],
      "_model_module": "@jupyter-widgets/controls",
      "_model_module_version": "1.5.0",
      "_model_name": "HTMLModel",
      "_view_count": null,
      "_view_module": "@jupyter-widgets/controls",
      "_view_module_version": "1.5.0",
      "_view_name": "HTMLView",
      "description": "",
      "description_tooltip": null,
      "layout": "IPY_MODEL_a0cd6e8e098648209cdefb94773a0bea",
      "placeholder": "​",
      "style": "IPY_MODEL_9df8067802574a268567b623e0db59e2",
      "value": " 714M/714M [00:50&lt;00:00, 19.3MB/s]"
     }
    },
    "2eb480999e08460892ad6bcc452e017e": {
     "model_module": "@jupyter-widgets/base",
     "model_module_version": "1.2.0",
     "model_name": "LayoutModel",
     "state": {
      "_model_module": "@jupyter-widgets/base",
      "_model_module_version": "1.2.0",
      "_model_name": "LayoutModel",
      "_view_count": null,
      "_view_module": "@jupyter-widgets/base",
      "_view_module_version": "1.2.0",
      "_view_name": "LayoutView",
      "align_content": null,
      "align_items": null,
      "align_self": null,
      "border": null,
      "bottom": null,
      "display": null,
      "flex": null,
      "flex_flow": null,
      "grid_area": null,
      "grid_auto_columns": null,
      "grid_auto_flow": null,
      "grid_auto_rows": null,
      "grid_column": null,
      "grid_gap": null,
      "grid_row": null,
      "grid_template_areas": null,
      "grid_template_columns": null,
      "grid_template_rows": null,
      "height": null,
      "justify_content": null,
      "justify_items": null,
      "left": null,
      "margin": null,
      "max_height": null,
      "max_width": null,
      "min_height": null,
      "min_width": null,
      "object_fit": null,
      "object_position": null,
      "order": null,
      "overflow": null,
      "overflow_x": null,
      "overflow_y": null,
      "padding": null,
      "right": null,
      "top": null,
      "visibility": null,
      "width": null
     }
    },
    "2f9c02429a4d47728b908d6324ee95cd": {
     "model_module": "@jupyter-widgets/controls",
     "model_module_version": "1.5.0",
     "model_name": "HTMLModel",
     "state": {
      "_dom_classes": [],
      "_model_module": "@jupyter-widgets/controls",
      "_model_module_version": "1.5.0",
      "_model_name": "HTMLModel",
      "_view_count": null,
      "_view_module": "@jupyter-widgets/controls",
      "_view_module_version": "1.5.0",
      "_view_name": "HTMLView",
      "description": "",
      "description_tooltip": null,
      "layout": "IPY_MODEL_8f74b33fd91e4021b2407a47d10c80c3",
      "placeholder": "​",
      "style": "IPY_MODEL_71a0205fb3dd4fa6b57d3e670ea0f95c",
      "value": " 112/112 [00:00&lt;00:00, 4.40kB/s]"
     }
    },
    "30ed34c4adf74440bf21a943813fcbb5": {
     "model_module": "@jupyter-widgets/controls",
     "model_module_version": "1.5.0",
     "model_name": "HTMLModel",
     "state": {
      "_dom_classes": [],
      "_model_module": "@jupyter-widgets/controls",
      "_model_module_version": "1.5.0",
      "_model_name": "HTMLModel",
      "_view_count": null,
      "_view_module": "@jupyter-widgets/controls",
      "_view_module_version": "1.5.0",
      "_view_name": "HTMLView",
      "description": "",
      "description_tooltip": null,
      "layout": "IPY_MODEL_6a7c8c63e68945e190e59e183ac8cc09",
      "placeholder": "​",
      "style": "IPY_MODEL_3f07e4b816744e8eb74a4cd846399327",
      "value": "config.json: 100%"
     }
    },
    "34039fd484fb4babb75ebd6244ad3f40": {
     "model_module": "@jupyter-widgets/controls",
     "model_module_version": "1.5.0",
     "model_name": "FloatProgressModel",
     "state": {
      "_dom_classes": [],
      "_model_module": "@jupyter-widgets/controls",
      "_model_module_version": "1.5.0",
      "_model_name": "FloatProgressModel",
      "_view_count": null,
      "_view_module": "@jupyter-widgets/controls",
      "_view_module_version": "1.5.0",
      "_view_name": "ProgressView",
      "bar_style": "success",
      "description": "",
      "description_tooltip": null,
      "layout": "IPY_MODEL_2eb480999e08460892ad6bcc452e017e",
      "max": 1649718,
      "min": 0,
      "orientation": "horizontal",
      "style": "IPY_MODEL_bb856e12ca604255aff10d54f34cde71",
      "value": 1649718
     }
    },
    "35d2b304dae74eddb52ebdd32f1e242b": {
     "model_module": "@jupyter-widgets/controls",
     "model_module_version": "1.5.0",
     "model_name": "ProgressStyleModel",
     "state": {
      "_model_module": "@jupyter-widgets/controls",
      "_model_module_version": "1.5.0",
      "_model_name": "ProgressStyleModel",
      "_view_count": null,
      "_view_module": "@jupyter-widgets/base",
      "_view_module_version": "1.2.0",
      "_view_name": "StyleView",
      "bar_color": null,
      "description_width": ""
     }
    },
    "3b2580a359a84fa380013030d2c00d21": {
     "model_module": "@jupyter-widgets/controls",
     "model_module_version": "1.5.0",
     "model_name": "ProgressStyleModel",
     "state": {
      "_model_module": "@jupyter-widgets/controls",
      "_model_module_version": "1.5.0",
      "_model_name": "ProgressStyleModel",
      "_view_count": null,
      "_view_module": "@jupyter-widgets/base",
      "_view_module_version": "1.2.0",
      "_view_name": "StyleView",
      "bar_color": null,
      "description_width": ""
     }
    },
    "3f07e4b816744e8eb74a4cd846399327": {
     "model_module": "@jupyter-widgets/controls",
     "model_module_version": "1.5.0",
     "model_name": "DescriptionStyleModel",
     "state": {
      "_model_module": "@jupyter-widgets/controls",
      "_model_module_version": "1.5.0",
      "_model_name": "DescriptionStyleModel",
      "_view_count": null,
      "_view_module": "@jupyter-widgets/base",
      "_view_module_version": "1.2.0",
      "_view_name": "StyleView",
      "description_width": ""
     }
    },
    "44079fc5bd6c43b59dd2bdd4d14872c7": {
     "model_module": "@jupyter-widgets/base",
     "model_module_version": "1.2.0",
     "model_name": "LayoutModel",
     "state": {
      "_model_module": "@jupyter-widgets/base",
      "_model_module_version": "1.2.0",
      "_model_name": "LayoutModel",
      "_view_count": null,
      "_view_module": "@jupyter-widgets/base",
      "_view_module_version": "1.2.0",
      "_view_name": "LayoutView",
      "align_content": null,
      "align_items": null,
      "align_self": null,
      "border": null,
      "bottom": null,
      "display": null,
      "flex": null,
      "flex_flow": null,
      "grid_area": null,
      "grid_auto_columns": null,
      "grid_auto_flow": null,
      "grid_auto_rows": null,
      "grid_column": null,
      "grid_gap": null,
      "grid_row": null,
      "grid_template_areas": null,
      "grid_template_columns": null,
      "grid_template_rows": null,
      "height": null,
      "justify_content": null,
      "justify_items": null,
      "left": null,
      "margin": null,
      "max_height": null,
      "max_width": null,
      "min_height": null,
      "min_width": null,
      "object_fit": null,
      "object_position": null,
      "order": null,
      "overflow": null,
      "overflow_x": null,
      "overflow_y": null,
      "padding": null,
      "right": null,
      "top": null,
      "visibility": null,
      "width": null
     }
    },
    "48fda8e172e44f4c9aeaffef4538c342": {
     "model_module": "@jupyter-widgets/controls",
     "model_module_version": "1.5.0",
     "model_name": "HTMLModel",
     "state": {
      "_dom_classes": [],
      "_model_module": "@jupyter-widgets/controls",
      "_model_module_version": "1.5.0",
      "_model_name": "HTMLModel",
      "_view_count": null,
      "_view_module": "@jupyter-widgets/controls",
      "_view_module_version": "1.5.0",
      "_view_name": "HTMLView",
      "description": "",
      "description_tooltip": null,
      "layout": "IPY_MODEL_9014548dae214648829c8fb3e40186be",
      "placeholder": "​",
      "style": "IPY_MODEL_7f37a3157ce648c081dc485285553cf3",
      "value": " 24.0/24.0 [00:00&lt;00:00, 1.52kB/s]"
     }
    },
    "4e8c7ac5c3334a9aa7cc41fcad4aa31f": {
     "model_module": "@jupyter-widgets/controls",
     "model_module_version": "1.5.0",
     "model_name": "FloatProgressModel",
     "state": {
      "_dom_classes": [],
      "_model_module": "@jupyter-widgets/controls",
      "_model_module_version": "1.5.0",
      "_model_name": "FloatProgressModel",
      "_view_count": null,
      "_view_module": "@jupyter-widgets/controls",
      "_view_module_version": "1.5.0",
      "_view_name": "ProgressView",
      "bar_style": "success",
      "description": "",
      "description_tooltip": null,
      "layout": "IPY_MODEL_be2dc1e0a4b24ab9af16890cafbec789",
      "max": 714355318,
      "min": 0,
      "orientation": "horizontal",
      "style": "IPY_MODEL_0069d0d3a3424c09be7730293a812f80",
      "value": 714355318
     }
    },
    "4e9cae218c3849888fcdb2e687122879": {
     "model_module": "@jupyter-widgets/controls",
     "model_module_version": "1.5.0",
     "model_name": "HBoxModel",
     "state": {
      "_dom_classes": [],
      "_model_module": "@jupyter-widgets/controls",
      "_model_module_version": "1.5.0",
      "_model_name": "HBoxModel",
      "_view_count": null,
      "_view_module": "@jupyter-widgets/controls",
      "_view_module_version": "1.5.0",
      "_view_name": "HBoxView",
      "box_style": "",
      "children": [
       "IPY_MODEL_e5f0fdeb1a6c4963872a6c45be1d8bb6",
       "IPY_MODEL_06e7817b9c8d4ace8de8d7c36ab1eb66",
       "IPY_MODEL_2f9c02429a4d47728b908d6324ee95cd"
      ],
      "layout": "IPY_MODEL_11e5072b341e4b078eaa70cbad72c318"
     }
    },
    "5435bd84d2d64f80b8286e03f73d1bf1": {
     "model_module": "@jupyter-widgets/controls",
     "model_module_version": "1.5.0",
     "model_name": "DescriptionStyleModel",
     "state": {
      "_model_module": "@jupyter-widgets/controls",
      "_model_module_version": "1.5.0",
      "_model_name": "DescriptionStyleModel",
      "_view_count": null,
      "_view_module": "@jupyter-widgets/base",
      "_view_module_version": "1.2.0",
      "_view_name": "StyleView",
      "description_width": ""
     }
    },
    "60c8023b39a54d5cb1302f09f797e8c0": {
     "model_module": "@jupyter-widgets/controls",
     "model_module_version": "1.5.0",
     "model_name": "DescriptionStyleModel",
     "state": {
      "_model_module": "@jupyter-widgets/controls",
      "_model_module_version": "1.5.0",
      "_model_name": "DescriptionStyleModel",
      "_view_count": null,
      "_view_module": "@jupyter-widgets/base",
      "_view_module_version": "1.2.0",
      "_view_name": "StyleView",
      "description_width": ""
     }
    },
    "6a7c8c63e68945e190e59e183ac8cc09": {
     "model_module": "@jupyter-widgets/base",
     "model_module_version": "1.2.0",
     "model_name": "LayoutModel",
     "state": {
      "_model_module": "@jupyter-widgets/base",
      "_model_module_version": "1.2.0",
      "_model_name": "LayoutModel",
      "_view_count": null,
      "_view_module": "@jupyter-widgets/base",
      "_view_module_version": "1.2.0",
      "_view_name": "LayoutView",
      "align_content": null,
      "align_items": null,
      "align_self": null,
      "border": null,
      "bottom": null,
      "display": null,
      "flex": null,
      "flex_flow": null,
      "grid_area": null,
      "grid_auto_columns": null,
      "grid_auto_flow": null,
      "grid_auto_rows": null,
      "grid_column": null,
      "grid_gap": null,
      "grid_row": null,
      "grid_template_areas": null,
      "grid_template_columns": null,
      "grid_template_rows": null,
      "height": null,
      "justify_content": null,
      "justify_items": null,
      "left": null,
      "margin": null,
      "max_height": null,
      "max_width": null,
      "min_height": null,
      "min_width": null,
      "object_fit": null,
      "object_position": null,
      "order": null,
      "overflow": null,
      "overflow_x": null,
      "overflow_y": null,
      "padding": null,
      "right": null,
      "top": null,
      "visibility": null,
      "width": null
     }
    },
    "71a0205fb3dd4fa6b57d3e670ea0f95c": {
     "model_module": "@jupyter-widgets/controls",
     "model_module_version": "1.5.0",
     "model_name": "DescriptionStyleModel",
     "state": {
      "_model_module": "@jupyter-widgets/controls",
      "_model_module_version": "1.5.0",
      "_model_name": "DescriptionStyleModel",
      "_view_count": null,
      "_view_module": "@jupyter-widgets/base",
      "_view_module_version": "1.2.0",
      "_view_name": "StyleView",
      "description_width": ""
     }
    },
    "7590998f6cba494c8315aefcdc54eca7": {
     "model_module": "@jupyter-widgets/controls",
     "model_module_version": "1.5.0",
     "model_name": "HBoxModel",
     "state": {
      "_dom_classes": [],
      "_model_module": "@jupyter-widgets/controls",
      "_model_module_version": "1.5.0",
      "_model_name": "HBoxModel",
      "_view_count": null,
      "_view_module": "@jupyter-widgets/controls",
      "_view_module_version": "1.5.0",
      "_view_name": "HBoxView",
      "box_style": "",
      "children": [
       "IPY_MODEL_260d9d0bea5d4225bf179d95b4aaee59",
       "IPY_MODEL_34039fd484fb4babb75ebd6244ad3f40",
       "IPY_MODEL_f05ed0ea156d46d09da5c359b21ba2d2"
      ],
      "layout": "IPY_MODEL_865d1421bed44a9782af256ec122b690"
     }
    },
    "7e1d73aeadec475e839e4c3ef628c0f5": {
     "model_module": "@jupyter-widgets/base",
     "model_module_version": "1.2.0",
     "model_name": "LayoutModel",
     "state": {
      "_model_module": "@jupyter-widgets/base",
      "_model_module_version": "1.2.0",
      "_model_name": "LayoutModel",
      "_view_count": null,
      "_view_module": "@jupyter-widgets/base",
      "_view_module_version": "1.2.0",
      "_view_name": "LayoutView",
      "align_content": null,
      "align_items": null,
      "align_self": null,
      "border": null,
      "bottom": null,
      "display": null,
      "flex": null,
      "flex_flow": null,
      "grid_area": null,
      "grid_auto_columns": null,
      "grid_auto_flow": null,
      "grid_auto_rows": null,
      "grid_column": null,
      "grid_gap": null,
      "grid_row": null,
      "grid_template_areas": null,
      "grid_template_columns": null,
      "grid_template_rows": null,
      "height": null,
      "justify_content": null,
      "justify_items": null,
      "left": null,
      "margin": null,
      "max_height": null,
      "max_width": null,
      "min_height": null,
      "min_width": null,
      "object_fit": null,
      "object_position": null,
      "order": null,
      "overflow": null,
      "overflow_x": null,
      "overflow_y": null,
      "padding": null,
      "right": null,
      "top": null,
      "visibility": null,
      "width": null
     }
    },
    "7f37a3157ce648c081dc485285553cf3": {
     "model_module": "@jupyter-widgets/controls",
     "model_module_version": "1.5.0",
     "model_name": "DescriptionStyleModel",
     "state": {
      "_model_module": "@jupyter-widgets/controls",
      "_model_module_version": "1.5.0",
      "_model_name": "DescriptionStyleModel",
      "_view_count": null,
      "_view_module": "@jupyter-widgets/base",
      "_view_module_version": "1.2.0",
      "_view_name": "StyleView",
      "description_width": ""
     }
    },
    "81463cc2ce45422982a8430573a79c80": {
     "model_module": "@jupyter-widgets/base",
     "model_module_version": "1.2.0",
     "model_name": "LayoutModel",
     "state": {
      "_model_module": "@jupyter-widgets/base",
      "_model_module_version": "1.2.0",
      "_model_name": "LayoutModel",
      "_view_count": null,
      "_view_module": "@jupyter-widgets/base",
      "_view_module_version": "1.2.0",
      "_view_name": "LayoutView",
      "align_content": null,
      "align_items": null,
      "align_self": null,
      "border": null,
      "bottom": null,
      "display": null,
      "flex": null,
      "flex_flow": null,
      "grid_area": null,
      "grid_auto_columns": null,
      "grid_auto_flow": null,
      "grid_auto_rows": null,
      "grid_column": null,
      "grid_gap": null,
      "grid_row": null,
      "grid_template_areas": null,
      "grid_template_columns": null,
      "grid_template_rows": null,
      "height": null,
      "justify_content": null,
      "justify_items": null,
      "left": null,
      "margin": null,
      "max_height": null,
      "max_width": null,
      "min_height": null,
      "min_width": null,
      "object_fit": null,
      "object_position": null,
      "order": null,
      "overflow": null,
      "overflow_x": null,
      "overflow_y": null,
      "padding": null,
      "right": null,
      "top": null,
      "visibility": null,
      "width": null
     }
    },
    "83728599267f42a4973c24fc5e5950cc": {
     "model_module": "@jupyter-widgets/controls",
     "model_module_version": "1.5.0",
     "model_name": "FloatProgressModel",
     "state": {
      "_dom_classes": [],
      "_model_module": "@jupyter-widgets/controls",
      "_model_module_version": "1.5.0",
      "_model_name": "FloatProgressModel",
      "_view_count": null,
      "_view_module": "@jupyter-widgets/controls",
      "_view_module_version": "1.5.0",
      "_view_name": "ProgressView",
      "bar_style": "success",
      "description": "",
      "description_tooltip": null,
      "layout": "IPY_MODEL_7e1d73aeadec475e839e4c3ef628c0f5",
      "max": 24,
      "min": 0,
      "orientation": "horizontal",
      "style": "IPY_MODEL_35d2b304dae74eddb52ebdd32f1e242b",
      "value": 24
     }
    },
    "83db8217f81142a8a88fc76f83bd2c2c": {
     "model_module": "@jupyter-widgets/controls",
     "model_module_version": "1.5.0",
     "model_name": "HTMLModel",
     "state": {
      "_dom_classes": [],
      "_model_module": "@jupyter-widgets/controls",
      "_model_module_version": "1.5.0",
      "_model_name": "HTMLModel",
      "_view_count": null,
      "_view_module": "@jupyter-widgets/controls",
      "_view_module_version": "1.5.0",
      "_view_name": "HTMLView",
      "description": "",
      "description_tooltip": null,
      "layout": "IPY_MODEL_2922d64dd53d413e9f115ca41f7b0479",
      "placeholder": "​",
      "style": "IPY_MODEL_ce7f327e21b44842aeaf474c26a425f3",
      "value": " 642/642 [00:00&lt;00:00, 43.2kB/s]"
     }
    },
    "865d1421bed44a9782af256ec122b690": {
     "model_module": "@jupyter-widgets/base",
     "model_module_version": "1.2.0",
     "model_name": "LayoutModel",
     "state": {
      "_model_module": "@jupyter-widgets/base",
      "_model_module_version": "1.2.0",
      "_model_name": "LayoutModel",
      "_view_count": null,
      "_view_module": "@jupyter-widgets/base",
      "_view_module_version": "1.2.0",
      "_view_name": "LayoutView",
      "align_content": null,
      "align_items": null,
      "align_self": null,
      "border": null,
      "bottom": null,
      "display": null,
      "flex": null,
      "flex_flow": null,
      "grid_area": null,
      "grid_auto_columns": null,
      "grid_auto_flow": null,
      "grid_auto_rows": null,
      "grid_column": null,
      "grid_gap": null,
      "grid_row": null,
      "grid_template_areas": null,
      "grid_template_columns": null,
      "grid_template_rows": null,
      "height": null,
      "justify_content": null,
      "justify_items": null,
      "left": null,
      "margin": null,
      "max_height": null,
      "max_width": null,
      "min_height": null,
      "min_width": null,
      "object_fit": null,
      "object_position": null,
      "order": null,
      "overflow": null,
      "overflow_x": null,
      "overflow_y": null,
      "padding": null,
      "right": null,
      "top": null,
      "visibility": null,
      "width": null
     }
    },
    "8b8b6cef3c9c40038eb232933ef8ef93": {
     "model_module": "@jupyter-widgets/controls",
     "model_module_version": "1.5.0",
     "model_name": "HBoxModel",
     "state": {
      "_dom_classes": [],
      "_model_module": "@jupyter-widgets/controls",
      "_model_module_version": "1.5.0",
      "_model_name": "HBoxModel",
      "_view_count": null,
      "_view_module": "@jupyter-widgets/controls",
      "_view_module_version": "1.5.0",
      "_view_name": "HBoxView",
      "box_style": "",
      "children": [
       "IPY_MODEL_b0d9d35696724a528093f9c49edf466a",
       "IPY_MODEL_4e8c7ac5c3334a9aa7cc41fcad4aa31f",
       "IPY_MODEL_2ea9984794b34092ad1155863030a577"
      ],
      "layout": "IPY_MODEL_afb989ef34434264b2ae0021094501b4"
     }
    },
    "8f74b33fd91e4021b2407a47d10c80c3": {
     "model_module": "@jupyter-widgets/base",
     "model_module_version": "1.2.0",
     "model_name": "LayoutModel",
     "state": {
      "_model_module": "@jupyter-widgets/base",
      "_model_module_version": "1.2.0",
      "_model_name": "LayoutModel",
      "_view_count": null,
      "_view_module": "@jupyter-widgets/base",
      "_view_module_version": "1.2.0",
      "_view_name": "LayoutView",
      "align_content": null,
      "align_items": null,
      "align_self": null,
      "border": null,
      "bottom": null,
      "display": null,
      "flex": null,
      "flex_flow": null,
      "grid_area": null,
      "grid_auto_columns": null,
      "grid_auto_flow": null,
      "grid_auto_rows": null,
      "grid_column": null,
      "grid_gap": null,
      "grid_row": null,
      "grid_template_areas": null,
      "grid_template_columns": null,
      "grid_template_rows": null,
      "height": null,
      "justify_content": null,
      "justify_items": null,
      "left": null,
      "margin": null,
      "max_height": null,
      "max_width": null,
      "min_height": null,
      "min_width": null,
      "object_fit": null,
      "object_position": null,
      "order": null,
      "overflow": null,
      "overflow_x": null,
      "overflow_y": null,
      "padding": null,
      "right": null,
      "top": null,
      "visibility": null,
      "width": null
     }
    },
    "9014548dae214648829c8fb3e40186be": {
     "model_module": "@jupyter-widgets/base",
     "model_module_version": "1.2.0",
     "model_name": "LayoutModel",
     "state": {
      "_model_module": "@jupyter-widgets/base",
      "_model_module_version": "1.2.0",
      "_model_name": "LayoutModel",
      "_view_count": null,
      "_view_module": "@jupyter-widgets/base",
      "_view_module_version": "1.2.0",
      "_view_name": "LayoutView",
      "align_content": null,
      "align_items": null,
      "align_self": null,
      "border": null,
      "bottom": null,
      "display": null,
      "flex": null,
      "flex_flow": null,
      "grid_area": null,
      "grid_auto_columns": null,
      "grid_auto_flow": null,
      "grid_auto_rows": null,
      "grid_column": null,
      "grid_gap": null,
      "grid_row": null,
      "grid_template_areas": null,
      "grid_template_columns": null,
      "grid_template_rows": null,
      "height": null,
      "justify_content": null,
      "justify_items": null,
      "left": null,
      "margin": null,
      "max_height": null,
      "max_width": null,
      "min_height": null,
      "min_width": null,
      "object_fit": null,
      "object_position": null,
      "order": null,
      "overflow": null,
      "overflow_x": null,
      "overflow_y": null,
      "padding": null,
      "right": null,
      "top": null,
      "visibility": null,
      "width": null
     }
    },
    "92c833acf9fc4851895b4c9ae8c70a22": {
     "model_module": "@jupyter-widgets/controls",
     "model_module_version": "1.5.0",
     "model_name": "ProgressStyleModel",
     "state": {
      "_model_module": "@jupyter-widgets/controls",
      "_model_module_version": "1.5.0",
      "_model_name": "ProgressStyleModel",
      "_view_count": null,
      "_view_module": "@jupyter-widgets/base",
      "_view_module_version": "1.2.0",
      "_view_name": "StyleView",
      "bar_color": null,
      "description_width": ""
     }
    },
    "9df8067802574a268567b623e0db59e2": {
     "model_module": "@jupyter-widgets/controls",
     "model_module_version": "1.5.0",
     "model_name": "DescriptionStyleModel",
     "state": {
      "_model_module": "@jupyter-widgets/controls",
      "_model_module_version": "1.5.0",
      "_model_name": "DescriptionStyleModel",
      "_view_count": null,
      "_view_module": "@jupyter-widgets/base",
      "_view_module_version": "1.2.0",
      "_view_name": "StyleView",
      "description_width": ""
     }
    },
    "a0cd6e8e098648209cdefb94773a0bea": {
     "model_module": "@jupyter-widgets/base",
     "model_module_version": "1.2.0",
     "model_name": "LayoutModel",
     "state": {
      "_model_module": "@jupyter-widgets/base",
      "_model_module_version": "1.2.0",
      "_model_name": "LayoutModel",
      "_view_count": null,
      "_view_module": "@jupyter-widgets/base",
      "_view_module_version": "1.2.0",
      "_view_name": "LayoutView",
      "align_content": null,
      "align_items": null,
      "align_self": null,
      "border": null,
      "bottom": null,
      "display": null,
      "flex": null,
      "flex_flow": null,
      "grid_area": null,
      "grid_auto_columns": null,
      "grid_auto_flow": null,
      "grid_auto_rows": null,
      "grid_column": null,
      "grid_gap": null,
      "grid_row": null,
      "grid_template_areas": null,
      "grid_template_columns": null,
      "grid_template_rows": null,
      "height": null,
      "justify_content": null,
      "justify_items": null,
      "left": null,
      "margin": null,
      "max_height": null,
      "max_width": null,
      "min_height": null,
      "min_width": null,
      "object_fit": null,
      "object_position": null,
      "order": null,
      "overflow": null,
      "overflow_x": null,
      "overflow_y": null,
      "padding": null,
      "right": null,
      "top": null,
      "visibility": null,
      "width": null
     }
    },
    "afb989ef34434264b2ae0021094501b4": {
     "model_module": "@jupyter-widgets/base",
     "model_module_version": "1.2.0",
     "model_name": "LayoutModel",
     "state": {
      "_model_module": "@jupyter-widgets/base",
      "_model_module_version": "1.2.0",
      "_model_name": "LayoutModel",
      "_view_count": null,
      "_view_module": "@jupyter-widgets/base",
      "_view_module_version": "1.2.0",
      "_view_name": "LayoutView",
      "align_content": null,
      "align_items": null,
      "align_self": null,
      "border": null,
      "bottom": null,
      "display": null,
      "flex": null,
      "flex_flow": null,
      "grid_area": null,
      "grid_auto_columns": null,
      "grid_auto_flow": null,
      "grid_auto_rows": null,
      "grid_column": null,
      "grid_gap": null,
      "grid_row": null,
      "grid_template_areas": null,
      "grid_template_columns": null,
      "grid_template_rows": null,
      "height": null,
      "justify_content": null,
      "justify_items": null,
      "left": null,
      "margin": null,
      "max_height": null,
      "max_width": null,
      "min_height": null,
      "min_width": null,
      "object_fit": null,
      "object_position": null,
      "order": null,
      "overflow": null,
      "overflow_x": null,
      "overflow_y": null,
      "padding": null,
      "right": null,
      "top": null,
      "visibility": null,
      "width": null
     }
    },
    "b0d9d35696724a528093f9c49edf466a": {
     "model_module": "@jupyter-widgets/controls",
     "model_module_version": "1.5.0",
     "model_name": "HTMLModel",
     "state": {
      "_dom_classes": [],
      "_model_module": "@jupyter-widgets/controls",
      "_model_module_version": "1.5.0",
      "_model_name": "HTMLModel",
      "_view_count": null,
      "_view_module": "@jupyter-widgets/controls",
      "_view_module_version": "1.5.0",
      "_view_name": "HTMLView",
      "description": "",
      "description_tooltip": null,
      "layout": "IPY_MODEL_d03a9ba5b09b44a288cd8723aebed327",
      "placeholder": "​",
      "style": "IPY_MODEL_d11d9a2ef3fc469893d4b329e57737a9",
      "value": "pytorch_model.bin: 100%"
     }
    },
    "b22ea8a8d8f34ba4b30f99512cfc7fe7": {
     "model_module": "@jupyter-widgets/base",
     "model_module_version": "1.2.0",
     "model_name": "LayoutModel",
     "state": {
      "_model_module": "@jupyter-widgets/base",
      "_model_module_version": "1.2.0",
      "_model_name": "LayoutModel",
      "_view_count": null,
      "_view_module": "@jupyter-widgets/base",
      "_view_module_version": "1.2.0",
      "_view_name": "LayoutView",
      "align_content": null,
      "align_items": null,
      "align_self": null,
      "border": null,
      "bottom": null,
      "display": null,
      "flex": null,
      "flex_flow": null,
      "grid_area": null,
      "grid_auto_columns": null,
      "grid_auto_flow": null,
      "grid_auto_rows": null,
      "grid_column": null,
      "grid_gap": null,
      "grid_row": null,
      "grid_template_areas": null,
      "grid_template_columns": null,
      "grid_template_rows": null,
      "height": null,
      "justify_content": null,
      "justify_items": null,
      "left": null,
      "margin": null,
      "max_height": null,
      "max_width": null,
      "min_height": null,
      "min_width": null,
      "object_fit": null,
      "object_position": null,
      "order": null,
      "overflow": null,
      "overflow_x": null,
      "overflow_y": null,
      "padding": null,
      "right": null,
      "top": null,
      "visibility": null,
      "width": null
     }
    },
    "b915f6ee8af842e9ba3c6dfffa9f62cd": {
     "model_module": "@jupyter-widgets/controls",
     "model_module_version": "1.5.0",
     "model_name": "DescriptionStyleModel",
     "state": {
      "_model_module": "@jupyter-widgets/controls",
      "_model_module_version": "1.5.0",
      "_model_name": "DescriptionStyleModel",
      "_view_count": null,
      "_view_module": "@jupyter-widgets/base",
      "_view_module_version": "1.2.0",
      "_view_name": "StyleView",
      "description_width": ""
     }
    },
    "b9fe106ac8ba44cda6d548d30dcaaa70": {
     "model_module": "@jupyter-widgets/controls",
     "model_module_version": "1.5.0",
     "model_name": "DescriptionStyleModel",
     "state": {
      "_model_module": "@jupyter-widgets/controls",
      "_model_module_version": "1.5.0",
      "_model_name": "DescriptionStyleModel",
      "_view_count": null,
      "_view_module": "@jupyter-widgets/base",
      "_view_module_version": "1.2.0",
      "_view_name": "StyleView",
      "description_width": ""
     }
    },
    "bb610142f3b143c5b99c90d41a51559b": {
     "model_module": "@jupyter-widgets/base",
     "model_module_version": "1.2.0",
     "model_name": "LayoutModel",
     "state": {
      "_model_module": "@jupyter-widgets/base",
      "_model_module_version": "1.2.0",
      "_model_name": "LayoutModel",
      "_view_count": null,
      "_view_module": "@jupyter-widgets/base",
      "_view_module_version": "1.2.0",
      "_view_name": "LayoutView",
      "align_content": null,
      "align_items": null,
      "align_self": null,
      "border": null,
      "bottom": null,
      "display": null,
      "flex": null,
      "flex_flow": null,
      "grid_area": null,
      "grid_auto_columns": null,
      "grid_auto_flow": null,
      "grid_auto_rows": null,
      "grid_column": null,
      "grid_gap": null,
      "grid_row": null,
      "grid_template_areas": null,
      "grid_template_columns": null,
      "grid_template_rows": null,
      "height": null,
      "justify_content": null,
      "justify_items": null,
      "left": null,
      "margin": null,
      "max_height": null,
      "max_width": null,
      "min_height": null,
      "min_width": null,
      "object_fit": null,
      "object_position": null,
      "order": null,
      "overflow": null,
      "overflow_x": null,
      "overflow_y": null,
      "padding": null,
      "right": null,
      "top": null,
      "visibility": null,
      "width": null
     }
    },
    "bb856e12ca604255aff10d54f34cde71": {
     "model_module": "@jupyter-widgets/controls",
     "model_module_version": "1.5.0",
     "model_name": "ProgressStyleModel",
     "state": {
      "_model_module": "@jupyter-widgets/controls",
      "_model_module_version": "1.5.0",
      "_model_name": "ProgressStyleModel",
      "_view_count": null,
      "_view_module": "@jupyter-widgets/base",
      "_view_module_version": "1.2.0",
      "_view_name": "StyleView",
      "bar_color": null,
      "description_width": ""
     }
    },
    "be2dc1e0a4b24ab9af16890cafbec789": {
     "model_module": "@jupyter-widgets/base",
     "model_module_version": "1.2.0",
     "model_name": "LayoutModel",
     "state": {
      "_model_module": "@jupyter-widgets/base",
      "_model_module_version": "1.2.0",
      "_model_name": "LayoutModel",
      "_view_count": null,
      "_view_module": "@jupyter-widgets/base",
      "_view_module_version": "1.2.0",
      "_view_name": "LayoutView",
      "align_content": null,
      "align_items": null,
      "align_self": null,
      "border": null,
      "bottom": null,
      "display": null,
      "flex": null,
      "flex_flow": null,
      "grid_area": null,
      "grid_auto_columns": null,
      "grid_auto_flow": null,
      "grid_auto_rows": null,
      "grid_column": null,
      "grid_gap": null,
      "grid_row": null,
      "grid_template_areas": null,
      "grid_template_columns": null,
      "grid_template_rows": null,
      "height": null,
      "justify_content": null,
      "justify_items": null,
      "left": null,
      "margin": null,
      "max_height": null,
      "max_width": null,
      "min_height": null,
      "min_width": null,
      "object_fit": null,
      "object_position": null,
      "order": null,
      "overflow": null,
      "overflow_x": null,
      "overflow_y": null,
      "padding": null,
      "right": null,
      "top": null,
      "visibility": null,
      "width": null
     }
    },
    "bf93564487804351bdf435973fd0e0ab": {
     "model_module": "@jupyter-widgets/controls",
     "model_module_version": "1.5.0",
     "model_name": "HTMLModel",
     "state": {
      "_dom_classes": [],
      "_model_module": "@jupyter-widgets/controls",
      "_model_module_version": "1.5.0",
      "_model_name": "HTMLModel",
      "_view_count": null,
      "_view_module": "@jupyter-widgets/controls",
      "_view_module_version": "1.5.0",
      "_view_name": "HTMLView",
      "description": "",
      "description_tooltip": null,
      "layout": "IPY_MODEL_fac5b2288bc54a5c8fb8db90946cd5bc",
      "placeholder": "​",
      "style": "IPY_MODEL_5435bd84d2d64f80b8286e03f73d1bf1",
      "value": "tokenizer_config.json: 100%"
     }
    },
    "c99140cfbfec4c438c83a42a2b2294c1": {
     "model_module": "@jupyter-widgets/base",
     "model_module_version": "1.2.0",
     "model_name": "LayoutModel",
     "state": {
      "_model_module": "@jupyter-widgets/base",
      "_model_module_version": "1.2.0",
      "_model_name": "LayoutModel",
      "_view_count": null,
      "_view_module": "@jupyter-widgets/base",
      "_view_module_version": "1.2.0",
      "_view_name": "LayoutView",
      "align_content": null,
      "align_items": null,
      "align_self": null,
      "border": null,
      "bottom": null,
      "display": null,
      "flex": null,
      "flex_flow": null,
      "grid_area": null,
      "grid_auto_columns": null,
      "grid_auto_flow": null,
      "grid_auto_rows": null,
      "grid_column": null,
      "grid_gap": null,
      "grid_row": null,
      "grid_template_areas": null,
      "grid_template_columns": null,
      "grid_template_rows": null,
      "height": null,
      "justify_content": null,
      "justify_items": null,
      "left": null,
      "margin": null,
      "max_height": null,
      "max_width": null,
      "min_height": null,
      "min_width": null,
      "object_fit": null,
      "object_position": null,
      "order": null,
      "overflow": null,
      "overflow_x": null,
      "overflow_y": null,
      "padding": null,
      "right": null,
      "top": null,
      "visibility": null,
      "width": null
     }
    },
    "ce7f327e21b44842aeaf474c26a425f3": {
     "model_module": "@jupyter-widgets/controls",
     "model_module_version": "1.5.0",
     "model_name": "DescriptionStyleModel",
     "state": {
      "_model_module": "@jupyter-widgets/controls",
      "_model_module_version": "1.5.0",
      "_model_name": "DescriptionStyleModel",
      "_view_count": null,
      "_view_module": "@jupyter-widgets/base",
      "_view_module_version": "1.2.0",
      "_view_name": "StyleView",
      "description_width": ""
     }
    },
    "d03a9ba5b09b44a288cd8723aebed327": {
     "model_module": "@jupyter-widgets/base",
     "model_module_version": "1.2.0",
     "model_name": "LayoutModel",
     "state": {
      "_model_module": "@jupyter-widgets/base",
      "_model_module_version": "1.2.0",
      "_model_name": "LayoutModel",
      "_view_count": null,
      "_view_module": "@jupyter-widgets/base",
      "_view_module_version": "1.2.0",
      "_view_name": "LayoutView",
      "align_content": null,
      "align_items": null,
      "align_self": null,
      "border": null,
      "bottom": null,
      "display": null,
      "flex": null,
      "flex_flow": null,
      "grid_area": null,
      "grid_auto_columns": null,
      "grid_auto_flow": null,
      "grid_auto_rows": null,
      "grid_column": null,
      "grid_gap": null,
      "grid_row": null,
      "grid_template_areas": null,
      "grid_template_columns": null,
      "grid_template_rows": null,
      "height": null,
      "justify_content": null,
      "justify_items": null,
      "left": null,
      "margin": null,
      "max_height": null,
      "max_width": null,
      "min_height": null,
      "min_width": null,
      "object_fit": null,
      "object_position": null,
      "order": null,
      "overflow": null,
      "overflow_x": null,
      "overflow_y": null,
      "padding": null,
      "right": null,
      "top": null,
      "visibility": null,
      "width": null
     }
    },
    "d11d9a2ef3fc469893d4b329e57737a9": {
     "model_module": "@jupyter-widgets/controls",
     "model_module_version": "1.5.0",
     "model_name": "DescriptionStyleModel",
     "state": {
      "_model_module": "@jupyter-widgets/controls",
      "_model_module_version": "1.5.0",
      "_model_name": "DescriptionStyleModel",
      "_view_count": null,
      "_view_module": "@jupyter-widgets/base",
      "_view_module_version": "1.2.0",
      "_view_name": "StyleView",
      "description_width": ""
     }
    },
    "e5f0fdeb1a6c4963872a6c45be1d8bb6": {
     "model_module": "@jupyter-widgets/controls",
     "model_module_version": "1.5.0",
     "model_name": "HTMLModel",
     "state": {
      "_dom_classes": [],
      "_model_module": "@jupyter-widgets/controls",
      "_model_module_version": "1.5.0",
      "_model_name": "HTMLModel",
      "_view_count": null,
      "_view_module": "@jupyter-widgets/controls",
      "_view_module_version": "1.5.0",
      "_view_name": "HTMLView",
      "description": "",
      "description_tooltip": null,
      "layout": "IPY_MODEL_81463cc2ce45422982a8430573a79c80",
      "placeholder": "​",
      "style": "IPY_MODEL_b9fe106ac8ba44cda6d548d30dcaaa70",
      "value": "special_tokens_map.json: 100%"
     }
    },
    "f05ed0ea156d46d09da5c359b21ba2d2": {
     "model_module": "@jupyter-widgets/controls",
     "model_module_version": "1.5.0",
     "model_name": "HTMLModel",
     "state": {
      "_dom_classes": [],
      "_model_module": "@jupyter-widgets/controls",
      "_model_module_version": "1.5.0",
      "_model_name": "HTMLModel",
      "_view_count": null,
      "_view_module": "@jupyter-widgets/controls",
      "_view_module_version": "1.5.0",
      "_view_name": "HTMLView",
      "description": "",
      "description_tooltip": null,
      "layout": "IPY_MODEL_c99140cfbfec4c438c83a42a2b2294c1",
      "placeholder": "​",
      "style": "IPY_MODEL_b915f6ee8af842e9ba3c6dfffa9f62cd",
      "value": " 1.65M/1.65M [00:00&lt;00:00, 1.66MB/s]"
     }
    },
    "fac5b2288bc54a5c8fb8db90946cd5bc": {
     "model_module": "@jupyter-widgets/base",
     "model_module_version": "1.2.0",
     "model_name": "LayoutModel",
     "state": {
      "_model_module": "@jupyter-widgets/base",
      "_model_module_version": "1.2.0",
      "_model_name": "LayoutModel",
      "_view_count": null,
      "_view_module": "@jupyter-widgets/base",
      "_view_module_version": "1.2.0",
      "_view_name": "LayoutView",
      "align_content": null,
      "align_items": null,
      "align_self": null,
      "border": null,
      "bottom": null,
      "display": null,
      "flex": null,
      "flex_flow": null,
      "grid_area": null,
      "grid_auto_columns": null,
      "grid_auto_flow": null,
      "grid_auto_rows": null,
      "grid_column": null,
      "grid_gap": null,
      "grid_row": null,
      "grid_template_areas": null,
      "grid_template_columns": null,
      "grid_template_rows": null,
      "height": null,
      "justify_content": null,
      "justify_items": null,
      "left": null,
      "margin": null,
      "max_height": null,
      "max_width": null,
      "min_height": null,
      "min_width": null,
      "object_fit": null,
      "object_position": null,
      "order": null,
      "overflow": null,
      "overflow_x": null,
      "overflow_y": null,
      "padding": null,
      "right": null,
      "top": null,
      "visibility": null,
      "width": null
     }
    }
   }
  }
 },
 "nbformat": 4,
 "nbformat_minor": 4
}
